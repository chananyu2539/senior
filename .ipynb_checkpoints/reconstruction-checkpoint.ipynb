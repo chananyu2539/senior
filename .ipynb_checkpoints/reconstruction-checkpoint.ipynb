{
 "cells": [
  {
   "cell_type": "code",
   "execution_count": 1,
   "metadata": {},
   "outputs": [],
   "source": [
    "import numpy as np\n",
    "import matplotlib.pyplot as plt\n",
    "from itertools import product\n",
    "from sklearn.decomposition import PCA\n",
    "from sklearn.datasets import fetch_mldata\n",
    "%matplotlib inline\n",
    "from sklearn.utils import shuffle\n",
    "\n",
    "# #use all digits\n",
    "\n",
    "SPLIT = 40000\n",
    "END = 48000\n",
    "\n",
    "mnist = fetch_mldata(\"MNIST original\")\n",
    "x_dat, y_dat = mnist.data[:END] / 255., mnist.target[:END]\n",
    "\n",
    "\n",
    "\n",
    "x_dat, y_dat = shuffle(x_dat, y_dat)\n",
    "x_train, y_train = x_dat[:SPLIT], y_dat[:SPLIT]  # lets subsample a bit for a first impression\n",
    "x_test, y_test = x_dat[SPLIT:END],y_dat[SPLIT:END]\n",
    "# pca = PCA(svd_solver='randomized',n_components=2)\n",
    "# fig, plot = plt.subplots()\n",
    "# fig.set_size_inches(50, 50)\n",
    "# plt.prism()\n",
    "\n",
    "# X_transformed = pca.fit_transform(x_train)\n",
    "# plot.scatter(X_transformed[:, 0], X_transformed[:, 1], c=y_train)\n",
    "# plot.set_xticks(())\n",
    "# plot.set_yticks(())\n",
    "\n",
    "# plt.tight_layout()"
   ]
  },
  {
   "cell_type": "code",
   "execution_count": 2,
   "metadata": {},
   "outputs": [
    {
     "name": "stdout",
     "output_type": "stream",
     "text": [
      "0.0233099894015 0.0233099894015\n"
     ]
    }
   ],
   "source": [
    "# PCA Reconstruction\n",
    "\n",
    "def reconstruct(model,train_set):\n",
    "    train_pca = (train_set - model.mean_).dot(model.components_.T)\n",
    "    return train_pca.dot(model.components_) + model.mean_\n",
    "\n",
    "\n",
    "pca = PCA(n_components=20)\n",
    "pca.fit(x_train)\n",
    "\n",
    "x_train_pca = pca.transform(x_train)\n",
    "x_train_pca2 = (x_train - pca.mean_).dot(pca.components_.T)\n",
    "\n",
    "x_projected = pca.inverse_transform(x_train_pca)\n",
    "x_projected2 = x_train_pca.dot(pca.components_) + pca.mean_\n",
    "\n",
    "x_test_pca = pca.transform(x_test)\n",
    "\n",
    "x_test_projected = x_test_pca.dot(pca.components_) + pca.mean_\n",
    "\n",
    "loss = ((x_train - x_projected) ** 2).mean()\n",
    "loss2 = ((x_train - x_projected2) ** 2).mean()\n",
    "\n",
    "print(loss,loss2)\n",
    "\n"
   ]
  },
  {
   "cell_type": "code",
   "execution_count": 55,
   "metadata": {},
   "outputs": [
    {
     "data": {
      "text/plain": [
       "[<matplotlib.lines.Line2D at 0x10eae4668>]"
      ]
     },
     "execution_count": 55,
     "metadata": {},
     "output_type": "execute_result"
    },
    {
     "data": {
      "image/png": "[encoded data removed]",
      "text/plain": [
       "<matplotlib.figure.Figure at 0x10b721940>"
      ]
     },
     "metadata": {},
     "output_type": "display_data"
    }
   ],
   "source": [
    "plt.plot(np.arange(len(pca.explained_variance_ratio_)), np.cumsum(pca.explained_variance_ratio_))"
   ]
  },
  {
   "cell_type": "code",
   "execution_count": 3,
   "metadata": {},
   "outputs": [],
   "source": [
    "def showDigitImage(array):\n",
    "    t = (array).reshape(28,28)\n",
    "    plt.imshow(t)\n",
    "    plt.show()"
   ]
  },
  {
   "cell_type": "markdown",
   "metadata": {},
   "source": [
    "# Pure Data"
   ]
  },
  {
   "cell_type": "code",
   "execution_count": 47,
   "metadata": {},
   "outputs": [
    {
     "name": "stdout",
     "output_type": "stream",
     "text": [
      "7576 / 8000 = 0.947 %\n"
     ]
    }
   ],
   "source": [
    "# Train from original data\n",
    "\n",
    "from sklearn.linear_model import LogisticRegression\n",
    "logisticRegr = LogisticRegression(solver = 'lbfgs')\n",
    "\n",
    "logisticRegr.fit(x_train, y_train)\n",
    "right = np.sum(logisticRegr.predict(x_test)==y_test)\n",
    "print(right,\"/\",len(y_test),\"=\",right/len(y_test),\"%\")"
   ]
  },
  {
   "cell_type": "code",
   "execution_count": 56,
   "metadata": {},
   "outputs": [
    {
     "data": {
      "text/plain": [
       "(40000, 784)"
      ]
     },
     "execution_count": 56,
     "metadata": {},
     "output_type": "execute_result"
    }
   ],
   "source": [
    "x_train.shape"
   ]
  },
  {
   "cell_type": "code",
   "execution_count": 5,
   "metadata": {},
   "outputs": [
    {
     "name": "stdout",
     "output_type": "stream",
     "text": [
      "7218 / 8000 = 0.90225 %\n"
     ]
    }
   ],
   "source": [
    "# Train from PCA\n",
    "\n",
    "from sklearn.linear_model import LogisticRegression\n",
    "logisticRegr = LogisticRegression(solver = 'lbfgs')\n",
    "\n",
    "logisticRegr.fit(x_train_pca, y_train)\n",
    "right = np.sum(logisticRegr.predict(pca.transform(x_test))==y_test)\n",
    "print(right,\"/\",len(y_test),\"=\",right/len(y_test),\"%\")\n"
   ]
  },
  {
   "cell_type": "code",
   "execution_count": 6,
   "metadata": {},
   "outputs": [
    {
     "name": "stdout",
     "output_type": "stream",
     "text": [
      "[ 5.  7.  2.  5.  6.] [ 7.  0.  1.  1.  5.]\n"
     ]
    },
    {
     "data": {
      "image/png": "[encoded data removed]",
      "text/plain": [
       "<matplotlib.figure.Figure at 0x107e0bfd0>"
      ]
     },
     "metadata": {},
     "output_type": "display_data"
    },
    {
     "data": {
      "image/png": "[encoded data removed]",
      "text/plain": [
       "<matplotlib.figure.Figure at 0x100de0940>"
      ]
     },
     "metadata": {},
     "output_type": "display_data"
    },
    {
     "data": {
      "image/png": "[encoded data removed]",
      "text/plain": [
       "<matplotlib.figure.Figure at 0x10d4a1518>"
      ]
     },
     "metadata": {},
     "output_type": "display_data"
    },
    {
     "data": {
      "image/png": "[encoded data removed]",
      "text/plain": [
       "<matplotlib.figure.Figure at 0x10d536630>"
      ]
     },
     "metadata": {},
     "output_type": "display_data"
    },
    {
     "data": {
      "image/png": "[encoded data removed]",
      "text/plain": [
       "<matplotlib.figure.Figure at 0x10d5c73c8>"
      ]
     },
     "metadata": {},
     "output_type": "display_data"
    }
   ],
   "source": [
    "ans = logisticRegr.predict(pca.transform(x_test))\n",
    "rs = ans!=y_test\n",
    "print(y_test[rs][:5],ans[rs][:5])\n",
    "for mistake in x_test[rs][:5]:\n",
    "    showDigitImage(mistake)"
   ]
  },
  {
   "cell_type": "code",
   "execution_count": 7,
   "metadata": {},
   "outputs": [
    {
     "name": "stdout",
     "output_type": "stream",
     "text": [
      "7218 / 8000 = 0.90225 %\n"
     ]
    }
   ],
   "source": [
    "# Train from PCA_inverse\n",
    "\n",
    "from sklearn.linear_model import LogisticRegression\n",
    "logisticRegr = LogisticRegression(solver = 'lbfgs')\n",
    "\n",
    "logisticRegr.fit(x_projected, y_train)\n",
    "right = np.sum(logisticRegr.predict(x_test_projected)==y_test)\n",
    "print(right,\"/\",len(y_test),\"=\",right/len(y_test),\"%\")"
   ]
  },
  {
   "cell_type": "code",
   "execution_count": 8,
   "metadata": {},
   "outputs": [
    {
     "name": "stdout",
     "output_type": "stream",
     "text": [
      "[ 5.  7.  2.  5.  6.] [ 7.  0.  1.  1.  5.]\n"
     ]
    },
    {
     "data": {
      "image/png": "[encoded data removed]",
      "text/plain": [
       "<matplotlib.figure.Figure at 0x10d52d908>"
      ]
     },
     "metadata": {},
     "output_type": "display_data"
    },
    {
     "data": {
      "image/png": "[encoded data removed]",
      "text/plain": [
       "<matplotlib.figure.Figure at 0x10d4b9ac8>"
      ]
     },
     "metadata": {},
     "output_type": "display_data"
    },
    {
     "data": {
      "image/png": "[encoded data removed]",
      "text/plain": [
       "<matplotlib.figure.Figure at 0x10d5d7358>"
      ]
     },
     "metadata": {},
     "output_type": "display_data"
    },
    {
     "data": {
      "image/png": "[encoded data removed]",
      "text/plain": [
       "<matplotlib.figure.Figure at 0x100f64470>"
      ]
     },
     "metadata": {},
     "output_type": "display_data"
    },
    {
     "data": {
      "image/png": "[encoded data removed]",
      "text/plain": [
       "<matplotlib.figure.Figure at 0x10dc0b550>"
      ]
     },
     "metadata": {},
     "output_type": "display_data"
    }
   ],
   "source": [
    "ans = logisticRegr.predict(x_test_projected)\n",
    "rs = ans!=y_test\n",
    "print(y_test[rs][:5],ans[rs][:5])\n",
    "for mistake in x_test_projected[rs][:5]:\n",
    "    showDigitImage(mistake)"
   ]
  },
  {
   "cell_type": "code",
   "execution_count": 9,
   "metadata": {},
   "outputs": [
    {
     "data": {
      "image/png": "[encoded data removed]",
      "text/plain": [
       "<matplotlib.figure.Figure at 0x10d5b0f28>"
      ]
     },
     "metadata": {},
     "output_type": "display_data"
    }
   ],
   "source": [
    "showDigitImage(x_train[0])"
   ]
  },
  {
   "cell_type": "code",
   "execution_count": 10,
   "metadata": {},
   "outputs": [
    {
     "data": {
      "image/png": "[encoded data removed]",
      "text/plain": [
       "<matplotlib.figure.Figure at 0x10dd71b70>"
      ]
     },
     "metadata": {},
     "output_type": "display_data"
    }
   ],
   "source": [
    "showDigitImage(x_projected[0])"
   ]
  },
  {
   "cell_type": "code",
   "execution_count": 57,
   "metadata": {},
   "outputs": [],
   "source": [
    "def add_noise_to_array(pure):\n",
    "    pure = pure.copy()\n",
    "    noise = np.random.normal(0, 0.3, pure.shape)\n",
    "    signal = pure + noise\n",
    "    return signal\n",
    "\n",
    "def add_noise_to_train_set(x_train):\n",
    "    rs = []\n",
    "    for i in x_train:\n",
    "        rs += [add_noise_to_array(i)]\n",
    "    return rs\n"
   ]
  },
  {
   "cell_type": "code",
   "execution_count": 58,
   "metadata": {},
   "outputs": [],
   "source": [
    "x_train_noisy = add_noise_to_train_set(x_train)\n",
    "# showDigitImage(x_train_noisy[100])\n",
    "# showDigitImage(x_train[100])\n",
    "# showDigitImage(x_projected[100])"
   ]
  },
  {
   "cell_type": "code",
   "execution_count": 59,
   "metadata": {},
   "outputs": [],
   "source": [
    "pca = PCA(n_components=20)\n",
    "pca.fit(x_train_noisy)\n",
    "\n",
    "x_train_pca_noisy = pca.transform(x_train_noisy)\n",
    "\n",
    "x_projected_noisy = x_train_pca_noisy.dot(pca.components_) + pca.mean_\n",
    "\n",
    "ppca = PCA(n_components=30)\n",
    "ppca.fit(x_projected_noisy)\n",
    "\n",
    "loss = ((x_train_noisy - x_projected_noisy) ** 2).mean()\n",
    "\n",
    "x_test_noisy = np.array(add_noise_to_train_set(x_test))\n",
    "\n",
    "x_test_pca_noisy = pca.transform(x_test_noisy)\n",
    "\n",
    "x_test_projected_noisy = x_test_pca_noisy.dot(pca.components_) + pca.mean_\n"
   ]
  },
  {
   "cell_type": "code",
   "execution_count": 60,
   "metadata": {},
   "outputs": [],
   "source": [
    "# print(x_test_noisy[0][:])\n",
    "# print(x_test[0][:])"
   ]
  },
  {
   "cell_type": "code",
   "execution_count": 61,
   "metadata": {},
   "outputs": [
    {
     "data": {
      "image/png": "[encoded data removed]",
      "text/plain": [
       "<matplotlib.figure.Figure at 0x10ba23588>"
      ]
     },
     "metadata": {},
     "output_type": "display_data"
    },
    {
     "data": {
      "image/png": "[encoded data removed]",
      "text/plain": [
       "<matplotlib.figure.Figure at 0x10b71c048>"
      ]
     },
     "metadata": {},
     "output_type": "display_data"
    },
    {
     "data": {
      "image/png": "[encoded data removed]",
      "text/plain": [
       "<matplotlib.figure.Figure at 0x10b9159e8>"
      ]
     },
     "metadata": {},
     "output_type": "display_data"
    },
    {
     "data": {
      "image/png": "[encoded data removed]",
      "text/plain": [
       "<matplotlib.figure.Figure at 0x100f72940>"
      ]
     },
     "metadata": {},
     "output_type": "display_data"
    },
    {
     "data": {
      "image/png": "[encoded data removed]",
      "text/plain": [
       "<matplotlib.figure.Figure at 0x10450f048>"
      ]
     },
     "metadata": {},
     "output_type": "display_data"
    },
    {
     "data": {
      "image/png": "[encoded data removed]",
      "text/plain": [
       "<matplotlib.figure.Figure at 0x10e22ac18>"
      ]
     },
     "metadata": {},
     "output_type": "display_data"
    }
   ],
   "source": [
    "showDigitImage(x_train[200])\n",
    "showDigitImage(x_train_noisy[200])\n",
    "showDigitImage(x_projected_noisy[200])\n",
    "\n",
    "showDigitImage(x_test[4])\n",
    "showDigitImage(x_test_noisy[4])\n",
    "showDigitImage(x_test_projected_noisy[4])\n"
   ]
  },
  {
   "cell_type": "markdown",
   "metadata": {},
   "source": [
    "# White noise"
   ]
  },
  {
   "cell_type": "code",
   "execution_count": 62,
   "metadata": {},
   "outputs": [
    {
     "name": "stdout",
     "output_type": "stream",
     "text": [
      "7244 / 8000 = 0.9055 %\n"
     ]
    }
   ],
   "source": [
    "# Train from original noisy\n",
    "\n",
    "from sklearn.linear_model import LogisticRegression\n",
    "logisticRegr = LogisticRegression(solver = 'lbfgs')\n",
    "\n",
    "logisticRegr.fit(x_train_noisy, y_train)\n",
    "rs1 = logisticRegr.predict(x_test_noisy)\n",
    "right = np.sum(logisticRegr.predict(x_test_noisy)==y_test)\n",
    "print(right,\"/\",len(y_test),\"=\",right/len(y_test),\"%\")\n"
   ]
  },
  {
   "cell_type": "code",
   "execution_count": 63,
   "metadata": {},
   "outputs": [
    {
     "name": "stdout",
     "output_type": "stream",
     "text": [
      "7119 / 8000 = 0.889875 %\n"
     ]
    }
   ],
   "source": [
    "# Train from PCA noisy\n",
    "\n",
    "from sklearn.linear_model import LogisticRegression\n",
    "logisticRegr = LogisticRegression(solver = 'lbfgs')\n",
    "\n",
    "logisticRegr.fit(x_train_pca_noisy, y_train)\n",
    "rs1 = logisticRegr.predict(pca.transform(x_test_noisy))\n",
    "right = np.sum(logisticRegr.predict(pca.transform(x_test_noisy))==y_test)\n",
    "print(right,\"/\",len(y_test),\"=\",right/len(y_test),\"%\")\n"
   ]
  },
  {
   "cell_type": "code",
   "execution_count": 18,
   "metadata": {},
   "outputs": [],
   "source": [
    "# ans = logisticRegr.predict(pca.transform(x_test_noisy))\n",
    "# rs = ans!=y_test\n",
    "# print(y_test[rs][:5],ans[rs][:5])\n",
    "# for mistake in x_test_noisy[rs][:5]:\n",
    "#     showDigitImage(mistake)"
   ]
  },
  {
   "cell_type": "code",
   "execution_count": 19,
   "metadata": {},
   "outputs": [
    {
     "name": "stdout",
     "output_type": "stream",
     "text": [
      "6090 / 8000 = 0.76125 %\n"
     ]
    }
   ],
   "source": [
    "# Train from PCA_inverse\n",
    "\n",
    "from sklearn.linear_model import LogisticRegression\n",
    "logisticRegr = LogisticRegression(solver = 'lbfgs')\n",
    "\n",
    "logisticRegr.fit(x_projected_noisy, y_train)\n",
    "rs2 = logisticRegr.predict(x_test_projected_noisy)\n",
    "right = np.sum(logisticRegr.predict(x_test_projected_noisy)==y_test)\n",
    "print(right,\"/\",len(y_test),\"=\",right/len(y_test),\"%\")\n"
   ]
  },
  {
   "cell_type": "code",
   "execution_count": 20,
   "metadata": {},
   "outputs": [],
   "source": [
    "# ans = logisticRegr.predict(x_test_projected_noisy)\n",
    "# rs = ans!=y_test\n",
    "# print(y_test[rs][:5],ans[rs][:5])\n",
    "# for mistake in x_test_projected_noisy[rs][:5]:\n",
    "#     showDigitImage(mistake)"
   ]
  },
  {
   "cell_type": "code",
   "execution_count": 21,
   "metadata": {},
   "outputs": [
    {
     "name": "stdout",
     "output_type": "stream",
     "text": [
      "8000\n"
     ]
    }
   ],
   "source": [
    "print(np.sum(rs1==rs2))"
   ]
  },
  {
   "cell_type": "code",
   "execution_count": null,
   "metadata": {},
   "outputs": [],
   "source": []
  },
  {
   "cell_type": "code",
   "execution_count": 22,
   "metadata": {},
   "outputs": [],
   "source": [
    "\n",
    "# SPLIT = 48000\n",
    "# END = 56000\n",
    "\n",
    "# mnist = fetch_mldata(\"MNIST original\")\n",
    "# x_dat, y_dat = mnist.data[:70000] / 255., mnist.target[:70000]\n",
    "\n",
    "# x_dat, y_dat = shuffle(x_dat, y_dat)\n",
    "# x_train, y_train = x_dat[:SPLIT], y_dat[:SPLIT]  # lets subsample a bit for a first impression\n",
    "# x_test, y_test = x_dat[SPLIT:END],y_dat[SPLIT:END]"
   ]
  },
  {
   "cell_type": "code",
   "execution_count": 23,
   "metadata": {},
   "outputs": [],
   "source": [
    "# for i in range(10):\n",
    "#     print(len(x_train[y_train==i]))"
   ]
  },
  {
   "cell_type": "code",
   "execution_count": 24,
   "metadata": {},
   "outputs": [],
   "source": [
    "def organise_y(old_y,target):\n",
    "    rs = old_y.copy()\n",
    "    for i in range(len(rs)):\n",
    "        if rs[i] != target : rs[i] = -1\n",
    "    return rs\n"
   ]
  },
  {
   "cell_type": "code",
   "execution_count": 25,
   "metadata": {},
   "outputs": [],
   "source": [
    "new_y_train = organise_y(y_train,6)\n",
    "new_y_test = organise_y(y_test,6)"
   ]
  },
  {
   "cell_type": "code",
   "execution_count": 26,
   "metadata": {},
   "outputs": [],
   "source": [
    "def rotate180(features):\n",
    "    return features.copy()[::-1]\n",
    "    "
   ]
  },
  {
   "cell_type": "code",
   "execution_count": 27,
   "metadata": {},
   "outputs": [],
   "source": [
    "def vertical_flip(features):\n",
    "    return np.flip(features.copy().reshape(28,28),1).ravel()\n"
   ]
  },
  {
   "cell_type": "code",
   "execution_count": 28,
   "metadata": {},
   "outputs": [
    {
     "data": {
      "image/png": "[encoded data removed]",
      "text/plain": [
       "<matplotlib.figure.Figure at 0x10d5d7e48>"
      ]
     },
     "metadata": {},
     "output_type": "display_data"
    },
    {
     "data": {
      "image/png": "[encoded data removed]",
      "text/plain": [
       "<matplotlib.figure.Figure at 0x103af26a0>"
      ]
     },
     "metadata": {},
     "output_type": "display_data"
    },
    {
     "data": {
      "image/png": "[encoded data removed]",
      "text/plain": [
       "<matplotlib.figure.Figure at 0x10d4542e8>"
      ]
     },
     "metadata": {},
     "output_type": "display_data"
    },
    {
     "data": {
      "text/plain": [
       "(None, None, None)"
      ]
     },
     "execution_count": 28,
     "metadata": {},
     "output_type": "execute_result"
    }
   ],
   "source": [
    "showDigitImage(x_train[0]),showDigitImage(rotate180(x_train[0])),showDigitImage(vertical_flip(x_train[0]))"
   ]
  },
  {
   "cell_type": "markdown",
   "metadata": {},
   "source": [
    "# No noise: 1 vs All"
   ]
  },
  {
   "cell_type": "code",
   "execution_count": 29,
   "metadata": {},
   "outputs": [],
   "source": [
    "pca = PCA(n_components=20)\n",
    "pca.fit(x_train)\n",
    "\n",
    "x_train_pca = pca.transform(x_train)\n",
    "\n",
    "x_projected = pca.inverse_transform(x_train_pca)\n",
    "\n",
    "x_test_pca = pca.transform(x_test)\n",
    "\n",
    "x_test_projected = x_test_pca.dot(pca.components_) + pca.mean_\n",
    "\n"
   ]
  },
  {
   "cell_type": "code",
   "execution_count": 30,
   "metadata": {},
   "outputs": [
    {
     "name": "stdout",
     "output_type": "stream",
     "text": [
      "7860 / 8000 = 0.9825 %\n"
     ]
    }
   ],
   "source": [
    "# Train from original\n",
    "\n",
    "from sklearn.linear_model import LogisticRegression\n",
    "logisticRegr = LogisticRegression(solver = 'lbfgs')\n",
    "\n",
    "logisticRegr.fit(x_train, new_y_train)\n",
    "right = np.sum(logisticRegr.predict(x_test)==new_y_test)\n",
    "print(right,\"/\",len(y_test),\"=\",right/len(y_test),\"%\")\n",
    "\n"
   ]
  },
  {
   "cell_type": "code",
   "execution_count": 31,
   "metadata": {},
   "outputs": [
    {
     "name": "stdout",
     "output_type": "stream",
     "text": [
      "7808 / 8000 = 0.976 %\n"
     ]
    }
   ],
   "source": [
    "# Train from PCA\n",
    "\n",
    "from sklearn.linear_model import LogisticRegression\n",
    "logisticRegr = LogisticRegression(solver = 'lbfgs')\n",
    "\n",
    "logisticRegr.fit(x_train_pca, new_y_train)\n",
    "right = np.sum(logisticRegr.predict(pca.transform(x_test))==new_y_test)\n",
    "print(right,\"/\",len(y_test),\"=\",right/len(y_test),\"%\")\n",
    "\n"
   ]
  },
  {
   "cell_type": "code",
   "execution_count": 32,
   "metadata": {},
   "outputs": [],
   "source": [
    "# ans = logisticRegr.predict(pca.transform(x_test))\n",
    "# rs = ans!=new_y_test\n",
    "# print(y_test[rs][:5],ans[rs][:5])\n",
    "# for mistake in x_test[rs][:5]:\n",
    "#     showDigitImage(mistake)"
   ]
  },
  {
   "cell_type": "code",
   "execution_count": 33,
   "metadata": {},
   "outputs": [
    {
     "name": "stdout",
     "output_type": "stream",
     "text": [
      "7808 / 8000 = 0.976 %\n"
     ]
    }
   ],
   "source": [
    "# Train from PCA_inverse\n",
    "\n",
    "from sklearn.linear_model import LogisticRegression\n",
    "logisticRegr = LogisticRegression(solver = 'lbfgs')\n",
    "\n",
    "logisticRegr.fit(x_projected, new_y_train)\n",
    "right = np.sum(logisticRegr.predict(x_test_projected)==new_y_test)\n",
    "print(right,\"/\",len(y_test),\"=\",right/len(y_test),\"%\")\n"
   ]
  },
  {
   "cell_type": "code",
   "execution_count": 34,
   "metadata": {},
   "outputs": [],
   "source": [
    "# ans = logisticRegr.predict(x_test_projected)\n",
    "# rs = ans!=new_y_test\n",
    "# print(y_test[rs][:5],ans[rs][:5])\n",
    "# for mistake in x_test_projected[rs][:5]:\n",
    "#     showDigitImage(mistake)"
   ]
  },
  {
   "cell_type": "markdown",
   "metadata": {},
   "source": [
    "# Noise: 1 vs All"
   ]
  },
  {
   "cell_type": "code",
   "execution_count": 35,
   "metadata": {},
   "outputs": [],
   "source": [
    "def add_true_noise_to_train_set(x_train,p):\n",
    "    rs = []\n",
    "    thresholds = np.random.rand(len(x_train)) < p\n",
    "    for i in range(len(x_train)):\n",
    "        if(thresholds[i]):\n",
    "#             print(i)\n",
    "            if(np.random.rand()<0.5):\n",
    "                \n",
    "                rs += [vertical_flip(x_train[i].copy())]\n",
    "            else:\n",
    "                rs += [rotate180(x_train[i].copy())]\n",
    "        else:\n",
    "            rs += [x_train[i].copy()]\n",
    "    return rs\n"
   ]
  },
  {
   "cell_type": "code",
   "execution_count": 36,
   "metadata": {},
   "outputs": [],
   "source": [
    "true_noise_x_train = add_true_noise_to_train_set(x_train,0.8)\n"
   ]
  },
  {
   "cell_type": "code",
   "execution_count": 37,
   "metadata": {},
   "outputs": [],
   "source": [
    "pca = PCA(n_components=20)\n",
    "pca.fit(true_noise_x_train)\n",
    "\n",
    "x_train_pca = pca.transform(true_noise_x_train)\n",
    "\n",
    "x_projected = pca.inverse_transform(x_train_pca)\n",
    "\n",
    "x_test_pca = pca.transform(x_test)\n",
    "\n",
    "x_test_projected = x_test_pca.dot(pca.components_) + pca.mean_\n",
    "\n"
   ]
  },
  {
   "cell_type": "code",
   "execution_count": 38,
   "metadata": {},
   "outputs": [
    {
     "name": "stdout",
     "output_type": "stream",
     "text": [
      "7279 / 8000 = 0.909875 %\n"
     ]
    }
   ],
   "source": [
    "from sklearn.linear_model import LogisticRegression\n",
    "logisticRegr = LogisticRegression(solver = 'lbfgs')\n",
    "\n",
    "logisticRegr.fit(true_noise_x_train, new_y_train)\n",
    "right = np.sum(logisticRegr.predict(x_test)==new_y_test)\n",
    "print(right,\"/\",len(y_test),\"=\",right/len(y_test),\"%\")"
   ]
  },
  {
   "cell_type": "code",
   "execution_count": 39,
   "metadata": {},
   "outputs": [],
   "source": [
    "# ans = logisticRegr.predict(x_test)\n",
    "# rs = ans!=new_y_test\n",
    "# print(y_test[rs][:5],ans[rs][:5])\n",
    "# for mistake in x_test[rs][:5]:\n",
    "#     showDigitImage(mistake)"
   ]
  },
  {
   "cell_type": "code",
   "execution_count": 40,
   "metadata": {},
   "outputs": [
    {
     "name": "stdout",
     "output_type": "stream",
     "text": [
      "6946 / 8000 = 0.86825 %\n"
     ]
    }
   ],
   "source": [
    "from sklearn.linear_model import LogisticRegression\n",
    "logisticRegr = LogisticRegression(solver = 'lbfgs')\n",
    "\n",
    "logisticRegr.fit(x_train_pca, new_y_train)\n",
    "right = np.sum(logisticRegr.predict(pca.transform(x_test))==new_y_test)\n",
    "print(right,\"/\",len(y_test),\"=\",right/len(y_test),\"%\")"
   ]
  },
  {
   "cell_type": "code",
   "execution_count": 41,
   "metadata": {},
   "outputs": [],
   "source": [
    "# ans = logisticRegr.predict(pca.transform(x_test))\n",
    "# rs = ans!=new_y_test\n",
    "# print(y_test[rs][:5],ans[rs][:5])\n",
    "# for mistake in x_test[rs][:5]:\n",
    "#     showDigitImage(mistake)"
   ]
  },
  {
   "cell_type": "code",
   "execution_count": 42,
   "metadata": {},
   "outputs": [
    {
     "name": "stdout",
     "output_type": "stream",
     "text": [
      "6946 / 8000 = 0.86825 %\n"
     ]
    }
   ],
   "source": [
    "# Train from PCA_inverse\n",
    "\n",
    "from sklearn.linear_model import LogisticRegression\n",
    "logisticRegr = LogisticRegression(solver = 'lbfgs')\n",
    "\n",
    "logisticRegr.fit(x_projected, new_y_train)\n",
    "right = np.sum(logisticRegr.predict(x_test_projected)==new_y_test)\n",
    "print(right,\"/\",len(y_test),\"=\",right/len(y_test),\"%\")\n"
   ]
  },
  {
   "cell_type": "code",
   "execution_count": 43,
   "metadata": {},
   "outputs": [],
   "source": [
    "# ans = logisticRegr.predict(x_test_projected)\n",
    "# rs = ans!=new_y_test\n",
    "# print(y_test[rs][:5],ans[rs][:5])\n",
    "# for mistake in x_test_projected[rs][:5]:\n",
    "#     showDigitImage(mistake)"
   ]
  },
  {
   "cell_type": "markdown",
   "metadata": {},
   "source": [
    "# Noise: All vs All"
   ]
  },
  {
   "cell_type": "code",
   "execution_count": 44,
   "metadata": {},
   "outputs": [
    {
     "name": "stdout",
     "output_type": "stream",
     "text": [
      "5881 / 8000 = 0.735125 %\n"
     ]
    }
   ],
   "source": [
    "# Train with original data\n",
    "from sklearn.linear_model import LogisticRegression\n",
    "logisticRegr = LogisticRegression(solver = 'lbfgs')\n",
    "\n",
    "logisticRegr.fit(true_noise_x_train, y_train)\n",
    "right = np.sum(logisticRegr.predict(x_test)==y_test)\n",
    "print(right,\"/\",len(y_test),\"=\",right/len(y_test),\"%\")"
   ]
  },
  {
   "cell_type": "code",
   "execution_count": 45,
   "metadata": {},
   "outputs": [
    {
     "name": "stdout",
     "output_type": "stream",
     "text": [
      "4903 / 8000 = 0.612875 %\n"
     ]
    }
   ],
   "source": [
    "from sklearn.linear_model import LogisticRegression\n",
    "logisticRegr = LogisticRegression(solver = 'lbfgs')\n",
    "\n",
    "logisticRegr.fit(x_train_pca, y_train)\n",
    "right = np.sum(logisticRegr.predict(pca.transform(x_test))==y_test)\n",
    "print(right,\"/\",len(y_test),\"=\",right/len(y_test),\"%\")"
   ]
  },
  {
   "cell_type": "code",
   "execution_count": 46,
   "metadata": {},
   "outputs": [
    {
     "name": "stdout",
     "output_type": "stream",
     "text": [
      "4904 / 8000 = 0.613 %\n"
     ]
    }
   ],
   "source": [
    "# Train from PCA_inverse\n",
    "\n",
    "from sklearn.linear_model import LogisticRegression\n",
    "logisticRegr = LogisticRegression(solver = 'lbfgs')\n",
    "\n",
    "logisticRegr.fit(x_projected, y_train)\n",
    "right = np.sum(logisticRegr.predict(x_test_projected)==y_test)\n",
    "print(right,\"/\",len(y_test),\"=\",right/len(y_test),\"%\")\n"
   ]
  },
  {
   "cell_type": "code",
   "execution_count": null,
   "metadata": {},
   "outputs": [],
   "source": []
  },
  {
   "cell_type": "code",
   "execution_count": 1,
   "metadata": {},
   "outputs": [],
   "source": [
    "def add3(x):\n",
    "    return x+3\n",
    "\n",
    "def addxys(x,y,f):\n",
    "    return f(x)+y"
   ]
  },
  {
   "cell_type": "code",
   "execution_count": 2,
   "metadata": {},
   "outputs": [
    {
     "data": {
      "text/plain": [
       "6"
      ]
     },
     "execution_count": 2,
     "metadata": {},
     "output_type": "execute_result"
    }
   ],
   "source": []
  },
  {
   "cell_type": "code",
   "execution_count": 8,
   "metadata": {},
   "outputs": [
    {
     "data": {
      "text/plain": [
       "(28, 28)"
      ]
     },
     "execution_count": 8,
     "metadata": {},
     "output_type": "execute_result"
    }
   ],
   "source": [
    "import numpy as np\n",
    "img28 = np.eye(28)\n",
    "# from skimage.transform import resize\n",
    "# img29r = resize(img, (29, 29))\n",
    "# from scipy.misc import imresize\n",
    "# img29i = imresize(img, (29, 29))\n"
   ]
  },
  {
   "cell_type": "code",
   "execution_count": 14,
   "metadata": {},
   "outputs": [
    {
     "data": {
      "image/png": "[encoded data removed]",
      "text/plain": [
       "<matplotlib.figure.Figure at 0x1132aafd0>"
      ]
     },
     "metadata": {},
     "output_type": "display_data"
    }
   ],
   "source": [
    "t = img28.reshape(28,28)\n",
    "plt.imshow(t)\n",
    "plt.show()"
   ]
  },
  {
   "cell_type": "code",
   "execution_count": 16,
   "metadata": {},
   "outputs": [
    {
     "ename": "AttributeError",
     "evalue": "module 'scipy.misc' has no attribute 'imresize'",
     "output_type": "error",
     "traceback": [
      "\u001b[0;31m---------------------------------------------------------------------------\u001b[0m",
      "\u001b[0;31mAttributeError\u001b[0m                            Traceback (most recent call last)",
      "\u001b[0;32m<ipython-input-16-a112aacb5515>\u001b[0m in \u001b[0;36m<module>\u001b[0;34m()\u001b[0m\n\u001b[1;32m      4\u001b[0m \u001b[0mi_height\u001b[0m \u001b[0;34m=\u001b[0m \u001b[0;36m480\u001b[0m\u001b[0;34m\u001b[0m\u001b[0m\n\u001b[1;32m      5\u001b[0m \u001b[0;34m\u001b[0m\u001b[0m\n\u001b[0;32m----> 6\u001b[0;31m \u001b[0mnt\u001b[0m \u001b[0;34m=\u001b[0m \u001b[0mscipy\u001b[0m\u001b[0;34m.\u001b[0m\u001b[0mmisc\u001b[0m\u001b[0;34m.\u001b[0m\u001b[0mimresize\u001b[0m\u001b[0;34m(\u001b[0m\u001b[0mt\u001b[0m\u001b[0;34m,\u001b[0m \u001b[0;34m(\u001b[0m\u001b[0mi_height\u001b[0m\u001b[0;34m,\u001b[0m \u001b[0mi_width\u001b[0m\u001b[0;34m)\u001b[0m\u001b[0;34m)\u001b[0m\u001b[0;34m\u001b[0m\u001b[0m\n\u001b[0m\u001b[1;32m      7\u001b[0m \u001b[0mplt\u001b[0m\u001b[0;34m.\u001b[0m\u001b[0mimshow\u001b[0m\u001b[0;34m(\u001b[0m\u001b[0mnt\u001b[0m\u001b[0;34m)\u001b[0m\u001b[0;34m\u001b[0m\u001b[0m\n\u001b[1;32m      8\u001b[0m \u001b[0mplt\u001b[0m\u001b[0;34m.\u001b[0m\u001b[0mshow\u001b[0m\u001b[0;34m(\u001b[0m\u001b[0;34m)\u001b[0m\u001b[0;34m\u001b[0m\u001b[0m\n",
      "\u001b[0;31mAttributeError\u001b[0m: module 'scipy.misc' has no attribute 'imresize'"
     ]
    }
   ],
   "source": [
    "import scipy.misc\n",
    "\n",
    "i_width = 640\n",
    "i_height = 480\n",
    "\n",
    "nt = scipy.misc.imresize(t, (i_height, i_width))\n",
    "plt.imshow(nt)\n",
    "plt.show()"
   ]
  },
  {
   "cell_type": "code",
   "execution_count": 2,
   "metadata": {},
   "outputs": [
    {
     "data": {
      "image/png": "[encoded data removed]",
      "text/plain": [
       "<matplotlib.figure.Figure at 0x103a0e1d0>"
      ]
     },
     "metadata": {},
     "output_type": "display_data"
    }
   ],
   "source": [
    "t = x_train[4123].reshape(28,28)\n",
    "plt.imshow(t)\n",
    "plt.show()"
   ]
  },
  {
   "cell_type": "code",
   "execution_count": 3,
   "metadata": {},
   "outputs": [
    {
     "data": {
      "text/plain": [
       "<matplotlib.image.AxesImage at 0x111d8d5c0>"
      ]
     },
     "execution_count": 3,
     "metadata": {},
     "output_type": "execute_result"
    },
    {
     "data": {
      "image/png": "[encoded data removed]",
      "text/plain": [
       "<matplotlib.figure.Figure at 0x10b1d2550>"
      ]
     },
     "metadata": {},
     "output_type": "display_data"
    }
   ],
   "source": [
    "# from scipy.ndimage.interpolation import zoom\n",
    "\n",
    "# nt = zoom(t, 0.1)\n",
    "# plt.imshow(nt)\n",
    "# plt.show()\n",
    "import cv2\n",
    "import numpy as np\n",
    "\n",
    "plt.imshow(t)\n",
    "# res = cv2.resize(t, dsize=(20, 5))\n",
    "# plt.imshow(res)\n",
    "\n",
    "# back = res.copy()\n",
    "# back.resize(28,28)\n",
    "# plt.imshow(back)"
   ]
  },
  {
   "cell_type": "code",
   "execution_count": 14,
   "metadata": {},
   "outputs": [],
   "source": [
    "def scale_down(xs,new_shape):\n",
    "    res = cv2.resize(t, dsize=new_shape)\n",
    "    rs = np.zeros((28,28))\n",
    "    for i in range(new_shape[1]):\n",
    "        print(len(res),new_shape[1])\n",
    "        for j in range(new_shape[0]):\n",
    "            \n",
    "            rs[i+10][j+10] = res[i][j]\n",
    "    \n",
    "    return rs"
   ]
  },
  {
   "cell_type": "code",
   "execution_count": 15,
   "metadata": {},
   "outputs": [
    {
     "name": "stdout",
     "output_type": "stream",
     "text": [
      "8 8\n",
      "8 8\n",
      "8 8\n",
      "8 8\n",
      "8 8\n",
      "8 8\n",
      "8 8\n",
      "8 8\n"
     ]
    },
    {
     "data": {
      "text/plain": [
       "<matplotlib.image.AxesImage at 0x112154c18>"
      ]
     },
     "execution_count": 15,
     "metadata": {},
     "output_type": "execute_result"
    },
    {
     "data": {
      "image/png": "[encoded data removed]",
      "text/plain": [
       "<matplotlib.figure.Figure at 0x1121082e8>"
      ]
     },
     "metadata": {},
     "output_type": "display_data"
    }
   ],
   "source": [
    "nt = scale_down(t,(8,8))\n",
    "plt.imshow(nt)"
   ]
  },
  {
   "cell_type": "code",
   "execution_count": 6,
   "metadata": {},
   "outputs": [
    {
     "data": {
      "text/plain": [
       "(5, 10)"
      ]
     },
     "execution_count": 6,
     "metadata": {},
     "output_type": "execute_result"
    }
   ],
   "source": [
    "cv2.resize(t,(10,5)).shape"
   ]
  },
  {
   "cell_type": "code",
   "execution_count": null,
   "metadata": {},
   "outputs": [],
   "source": []
  }
 ],
 "metadata": {
  "kernelspec": {
   "display_name": "Python 3",
   "language": "python",
   "name": "python3"
  },
  "language_info": {
   "codemirror_mode": {
    "name": "ipython",
    "version": 3
   },
   "file_extension": ".py",
   "mimetype": "text/x-python",
   "name": "python",
   "nbconvert_exporter": "python",
   "pygments_lexer": "ipython3",
   "version": "3.6.2"
  }
 },
 "nbformat": 4,
 "nbformat_minor": 2
}
