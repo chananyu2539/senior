{
 "cells": [
  {
   "cell_type": "code",
   "execution_count": 1,
   "metadata": {},
   "outputs": [],
   "source": [
    "import numpy as np\n",
    "import matplotlib.pyplot as plt\n",
    "from itertools import product\n",
    "from sklearn.decomposition import PCA\n",
    "from sklearn.datasets import fetch_mldata\n",
    "%matplotlib inline\n",
    "from sklearn.utils import shuffle\n",
    "from tga import TGA\n",
    "\n",
    "# #use all digits\n",
    "\n",
    "SPLIT = 16000\n",
    "END = 24000\n",
    "\n",
    "mnist = fetch_mldata(\"MNIST original\")\n",
    "x_dat, y_dat = mnist.data[:] / 255., mnist.target[:]\n",
    "x_dat, y_dat = shuffle(x_dat, y_dat)\n"
   ]
  },
  {
   "cell_type": "code",
   "execution_count": 2,
   "metadata": {},
   "outputs": [],
   "source": [
    "def showDigitImage(array):\n",
    "    t = (array).reshape(28,28)\n",
    "    plt.imshow(t)\n",
    "    plt.show()"
   ]
  },
  {
   "cell_type": "code",
   "execution_count": 3,
   "metadata": {},
   "outputs": [],
   "source": [
    "def filt_num(xs,ys,ns):\n",
    "    xs = xs.copy()\n",
    "    ys = ys.copy()\n",
    "    all_truth = [False]*len(ys)\n",
    "    for i in ns:\n",
    "        cur_truth = ys==i\n",
    "        all_truth = [a or b for a,b in zip(all_truth,cur_truth)]\n",
    "    return xs[all_truth],ys[all_truth]\n",
    "\n",
    "new_xs,new_ys = filt_num(x_dat,y_dat,[1,5])\n"
   ]
  },
  {
   "cell_type": "code",
   "execution_count": 4,
   "metadata": {},
   "outputs": [
    {
     "name": "stdout",
     "output_type": "stream",
     "text": [
      "0,1,2,3,4,5,6,7,8,9,10,11,12,13,14,15,16,17,18,19,"
     ]
    }
   ],
   "source": [
    "pca = PCA(n_components=20)\n",
    "pca.fit(new_xs)\n",
    "pca_dat = pca.transform(new_xs)\n",
    "\n",
    "tga = TGA(n_components=20)\n",
    "tga.fit(new_xs)\n",
    "tga_dat = tga.transform(new_xs)\n"
   ]
  },
  {
   "cell_type": "markdown",
   "metadata": {},
   "source": [
    "# {1,5} vs {1,5}"
   ]
  },
  {
   "cell_type": "code",
   "execution_count": 5,
   "metadata": {},
   "outputs": [
    {
     "name": "stderr",
     "output_type": "stream",
     "text": [
      "/usr/local/lib/python3.6/site-packages/sklearn/cross_validation.py:41: DeprecationWarning: This module was deprecated in version 0.18 in favor of the model_selection module into which all the refactored classes and functions are moved. Also note that the interface of the new CV iterators are different from that of this module. This module will be removed in 0.20.\n",
      "  \"This module will be removed in 0.20.\", DeprecationWarning)\n"
     ]
    },
    {
     "name": "stdout",
     "output_type": "stream",
     "text": [
      "Logistic Regression 0.995912614517\n",
      "             precision    recall  f1-score   support\n",
      "\n",
      "        1.0       1.00      1.00      1.00      7877\n",
      "        5.0       1.00      1.00      1.00      6313\n",
      "\n",
      "avg / total       1.00      1.00      1.00     14190\n",
      "\n",
      "SVM 0.995137420719\n",
      "             precision    recall  f1-score   support\n",
      "\n",
      "        1.0       1.00      1.00      1.00      7877\n",
      "        5.0       0.99      0.99      0.99      6313\n",
      "\n",
      "avg / total       1.00      1.00      1.00     14190\n",
      "\n"
     ]
    }
   ],
   "source": [
    "# Original feature\n",
    "\n",
    "from sklearn.linear_model import LogisticRegression\n",
    "from sklearn import metrics, cross_validation, svm\n",
    "from sklearn import datasets\n",
    "predicted = cross_validation.cross_val_predict(LogisticRegression(),new_xs, new_ys, cv=10)\n",
    "print(\"Logistic Regression\",metrics.accuracy_score(new_ys, predicted))\n",
    "print(metrics.classification_report(new_ys, predicted))\n",
    "\n",
    "clf = svm.SVC(kernel='linear', C=1)\n",
    "predicted = cross_validation.cross_val_predict(clf,new_xs, new_ys, cv=10)\n",
    "print(\"SVM\",metrics.accuracy_score(new_ys, predicted))\n",
    "print(metrics.classification_report(new_ys, predicted))\n",
    "\n"
   ]
  },
  {
   "cell_type": "code",
   "execution_count": 6,
   "metadata": {},
   "outputs": [
    {
     "name": "stdout",
     "output_type": "stream",
     "text": [
      "0.989992952784\n",
      "             precision    recall  f1-score   support\n",
      "\n",
      "        1.0       0.99      0.99      0.99      7877\n",
      "        5.0       0.99      0.99      0.99      6313\n",
      "\n",
      "avg / total       0.99      0.99      0.99     14190\n",
      "\n",
      "SVM 0.990486257928\n",
      "             precision    recall  f1-score   support\n",
      "\n",
      "        1.0       0.99      0.99      0.99      7877\n",
      "        5.0       0.99      0.99      0.99      6313\n",
      "\n",
      "avg / total       0.99      0.99      0.99     14190\n",
      "\n"
     ]
    }
   ],
   "source": [
    "# PCA feature\n",
    "\n",
    "from sklearn.linear_model import LogisticRegression\n",
    "from sklearn import metrics, cross_validation\n",
    "from sklearn import datasets\n",
    "predicted = cross_validation.cross_val_predict(LogisticRegression(),pca_dat, new_ys, cv=10)\n",
    "print(metrics.accuracy_score(new_ys, predicted))\n",
    "print(metrics.classification_report(new_ys, predicted))\n",
    "\n",
    "clf = svm.SVC(kernel='linear', C=1)\n",
    "predicted = cross_validation.cross_val_predict(clf,pca_dat, new_ys, cv=10)\n",
    "print(\"SVM\",metrics.accuracy_score(new_ys, predicted))\n",
    "print(metrics.classification_report(new_ys, predicted))\n"
   ]
  },
  {
   "cell_type": "code",
   "execution_count": 7,
   "metadata": {},
   "outputs": [
    {
     "name": "stdout",
     "output_type": "stream",
     "text": [
      "0.988653981677\n",
      "             precision    recall  f1-score   support\n",
      "\n",
      "        1.0       0.99      0.99      0.99      7877\n",
      "        5.0       0.99      0.99      0.99      6313\n",
      "\n",
      "avg / total       0.99      0.99      0.99     14190\n",
      "\n",
      "SVM 0.988724453841\n",
      "             precision    recall  f1-score   support\n",
      "\n",
      "        1.0       0.99      0.99      0.99      7877\n",
      "        5.0       0.99      0.99      0.99      6313\n",
      "\n",
      "avg / total       0.99      0.99      0.99     14190\n",
      "\n"
     ]
    }
   ],
   "source": [
    "# TGA feature\n",
    "\n",
    "from sklearn.linear_model import LogisticRegression\n",
    "from sklearn import metrics, cross_validation, svm\n",
    "from sklearn import datasets\n",
    "predicted = cross_validation.cross_val_predict(LogisticRegression(),tga_dat, new_ys, cv=10)\n",
    "print(metrics.accuracy_score(new_ys, predicted))\n",
    "print(metrics.classification_report(new_ys, predicted))\n",
    "\n",
    "clf = svm.SVC(kernel='linear', C=1)\n",
    "predicted = cross_validation.cross_val_predict(clf,tga_dat, new_ys, cv=10)\n",
    "print(\"SVM\",metrics.accuracy_score(new_ys, predicted))\n",
    "print(metrics.classification_report(new_ys, predicted))\n"
   ]
  },
  {
   "cell_type": "markdown",
   "metadata": {},
   "source": [
    "# {1,5} vs {1,5}: White noise"
   ]
  },
  {
   "cell_type": "code",
   "execution_count": 8,
   "metadata": {},
   "outputs": [],
   "source": [
    "def add_noise_to_array(pure):\n",
    "    pure = pure.copy()\n",
    "    noise = np.random.normal(0, 0.3, pure.shape)\n",
    "    signal = pure + noise\n",
    "    return signal\n",
    "\n",
    "def add_noise_to_train_set(x_train):\n",
    "    rs = []\n",
    "    for i in x_train:\n",
    "        rs += [add_noise_to_array(i)]\n",
    "    return rs\n",
    "\n",
    "white_xs = add_noise_to_train_set(new_xs)\n"
   ]
  },
  {
   "cell_type": "code",
   "execution_count": 10,
   "metadata": {},
   "outputs": [
    {
     "name": "stdout",
     "output_type": "stream",
     "text": [
      "0,1,2,3,4,5,6,7,8,9,10,11,12,13,14,15,16,17,18,19,"
     ]
    }
   ],
   "source": [
    "pca = PCA(n_components=20)\n",
    "pca.fit(white_xs)\n",
    "pca_dat = pca.transform(white_xs)\n",
    "\n",
    "tga = TGA(n_components=20)\n",
    "tga.fit(white_xs)\n",
    "tga_dat = tga.transform(white_xs)\n"
   ]
  },
  {
   "cell_type": "code",
   "execution_count": 11,
   "metadata": {},
   "outputs": [
    {
     "name": "stdout",
     "output_type": "stream",
     "text": [
      "0.986821705426\n",
      "             precision    recall  f1-score   support\n",
      "\n",
      "        1.0       0.99      0.99      0.99      7877\n",
      "        5.0       0.99      0.98      0.99      6313\n",
      "\n",
      "avg / total       0.99      0.99      0.99     14190\n",
      "\n",
      "SVM 0.983932346723\n",
      "             precision    recall  f1-score   support\n",
      "\n",
      "        1.0       0.98      0.99      0.99      7877\n",
      "        5.0       0.98      0.98      0.98      6313\n",
      "\n",
      "avg / total       0.98      0.98      0.98     14190\n",
      "\n"
     ]
    }
   ],
   "source": [
    "# Original feature\n",
    "\n",
    "from sklearn.linear_model import LogisticRegression\n",
    "from sklearn import metrics, cross_validation\n",
    "from sklearn import datasets\n",
    "predicted = cross_validation.cross_val_predict(LogisticRegression(),white_xs, new_ys, cv=10)\n",
    "print(metrics.accuracy_score(new_ys, predicted))\n",
    "print(metrics.classification_report(new_ys, predicted))\n",
    "\n",
    "clf = svm.SVC(kernel='linear', C=1)\n",
    "predicted = cross_validation.cross_val_predict(clf,white_xs, new_ys, cv=10)\n",
    "print(\"SVM\",metrics.accuracy_score(new_ys, predicted))\n",
    "print(metrics.classification_report(new_ys, predicted))"
   ]
  },
  {
   "cell_type": "code",
   "execution_count": 12,
   "metadata": {},
   "outputs": [
    {
     "name": "stdout",
     "output_type": "stream",
     "text": [
      "0.987174066244\n",
      "             precision    recall  f1-score   support\n",
      "\n",
      "        1.0       0.99      0.99      0.99      7877\n",
      "        5.0       0.99      0.99      0.99      6313\n",
      "\n",
      "avg / total       0.99      0.99      0.99     14190\n",
      "\n",
      "SVM 0.987455954898\n",
      "             precision    recall  f1-score   support\n",
      "\n",
      "        1.0       0.99      0.99      0.99      7877\n",
      "        5.0       0.98      0.99      0.99      6313\n",
      "\n",
      "avg / total       0.99      0.99      0.99     14190\n",
      "\n"
     ]
    }
   ],
   "source": [
    "# PCA feature\n",
    "\n",
    "from sklearn.linear_model import LogisticRegression\n",
    "from sklearn import metrics, cross_validation\n",
    "from sklearn import datasets\n",
    "predicted = cross_validation.cross_val_predict(LogisticRegression(),pca_dat, new_ys, cv=10)\n",
    "print(metrics.accuracy_score(new_ys, predicted))\n",
    "print(metrics.classification_report(new_ys, predicted))\n",
    "\n",
    "clf = svm.SVC(kernel='linear', C=1)\n",
    "predicted = cross_validation.cross_val_predict(clf,pca_dat, new_ys, cv=10)\n",
    "print(\"SVM\",metrics.accuracy_score(new_ys, predicted))\n",
    "print(metrics.classification_report(new_ys, predicted))"
   ]
  },
  {
   "cell_type": "code",
   "execution_count": 13,
   "metadata": {},
   "outputs": [
    {
     "name": "stdout",
     "output_type": "stream",
     "text": [
      "0.987244538407\n",
      "             precision    recall  f1-score   support\n",
      "\n",
      "        1.0       0.99      0.99      0.99      7877\n",
      "        5.0       0.99      0.98      0.99      6313\n",
      "\n",
      "avg / total       0.99      0.99      0.99     14190\n",
      "\n",
      "SVM 0.986821705426\n",
      "             precision    recall  f1-score   support\n",
      "\n",
      "        1.0       0.99      0.99      0.99      7877\n",
      "        5.0       0.98      0.99      0.99      6313\n",
      "\n",
      "avg / total       0.99      0.99      0.99     14190\n",
      "\n"
     ]
    }
   ],
   "source": [
    "# TGA feature\n",
    "\n",
    "from sklearn.linear_model import LogisticRegression\n",
    "from sklearn import metrics, cross_validation, svm\n",
    "from sklearn import datasets\n",
    "predicted = cross_validation.cross_val_predict(LogisticRegression(),tga_dat, new_ys, cv=10)\n",
    "print(metrics.accuracy_score(new_ys, predicted))\n",
    "print(metrics.classification_report(new_ys, predicted))\n",
    "\n",
    "clf = svm.SVC(kernel='linear', C=1)\n",
    "predicted = cross_validation.cross_val_predict(clf,tga_dat, new_ys, cv=10)\n",
    "print(\"SVM\",metrics.accuracy_score(new_ys, predicted))\n",
    "print(metrics.classification_report(new_ys, predicted))\n"
   ]
  },
  {
   "cell_type": "code",
   "execution_count": 14,
   "metadata": {},
   "outputs": [],
   "source": [
    "def rotate180(features):\n",
    "    return features.copy()[::-1]\n",
    "  \n",
    "def vertical_flip(features):\n",
    "    return np.flip(features.copy().reshape(28,28),1).ravel()\n",
    "        \n",
    "def add_true_noise_to_train_set(x_train,p):\n",
    "    rs = []\n",
    "    thresholds = np.random.rand(len(x_train)) < p\n",
    "    for i in range(len(x_train)):\n",
    "        if(thresholds[i]):\n",
    "#             print(i)\n",
    "            if(np.random.rand()<0.5):\n",
    "                \n",
    "                rs += [vertical_flip(x_train[i].copy())]\n",
    "            else:\n",
    "                rs += [rotate180(x_train[i].copy())]\n",
    "        else:\n",
    "            rs += [x_train[i].copy()]\n",
    "    return rs\n"
   ]
  },
  {
   "cell_type": "markdown",
   "metadata": {},
   "source": [
    "# {1,5} vs {1,5}: Flip"
   ]
  },
  {
   "cell_type": "code",
   "execution_count": 15,
   "metadata": {},
   "outputs": [
    {
     "name": "stdout",
     "output_type": "stream",
     "text": [
      "0,1,2,3,4,5,6,7,8,9,10,11,12,13,14,15,16,17,18,19,"
     ]
    }
   ],
   "source": [
    "true_noise_xs = add_true_noise_to_train_set(new_xs,0.2)\n",
    "\n",
    "pca = PCA(n_components=20)\n",
    "pca.fit(true_noise_xs)\n",
    "pca_dat = pca.transform(true_noise_xs)\n",
    "\n",
    "tga = TGA(n_components=20)\n",
    "tga.fit(true_noise_xs)\n",
    "tga_dat = tga.transform(true_noise_xs)\n"
   ]
  },
  {
   "cell_type": "code",
   "execution_count": 16,
   "metadata": {},
   "outputs": [
    {
     "name": "stdout",
     "output_type": "stream",
     "text": [
      "0.985623678647\n",
      "             precision    recall  f1-score   support\n",
      "\n",
      "        1.0       0.98      0.99      0.99      7877\n",
      "        5.0       0.99      0.98      0.98      6313\n",
      "\n",
      "avg / total       0.99      0.99      0.99     14190\n",
      "\n",
      "SVM 0.984918957012\n",
      "             precision    recall  f1-score   support\n",
      "\n",
      "        1.0       0.98      0.99      0.99      7877\n",
      "        5.0       0.99      0.98      0.98      6313\n",
      "\n",
      "avg / total       0.98      0.98      0.98     14190\n",
      "\n"
     ]
    }
   ],
   "source": [
    "# Original feature\n",
    "\n",
    "from sklearn.linear_model import LogisticRegression\n",
    "from sklearn import metrics, cross_validation\n",
    "from sklearn import datasets\n",
    "predicted = cross_validation.cross_val_predict(LogisticRegression(),true_noise_xs, new_ys, cv=10)\n",
    "print(metrics.accuracy_score(new_ys, predicted))\n",
    "print(metrics.classification_report(new_ys, predicted))\n",
    "\n",
    "clf = svm.SVC(kernel='linear', C=1)\n",
    "predicted = cross_validation.cross_val_predict(clf,true_noise_xs, new_ys, cv=10)\n",
    "print(\"SVM\",metrics.accuracy_score(new_ys, predicted))\n",
    "print(metrics.classification_report(new_ys, predicted))"
   ]
  },
  {
   "cell_type": "code",
   "execution_count": 17,
   "metadata": {},
   "outputs": [
    {
     "name": "stdout",
     "output_type": "stream",
     "text": [
      "0.971317829457\n",
      "             precision    recall  f1-score   support\n",
      "\n",
      "        1.0       0.97      0.98      0.97      7877\n",
      "        5.0       0.97      0.96      0.97      6313\n",
      "\n",
      "avg / total       0.97      0.97      0.97     14190\n",
      "\n",
      "SVM 0.972163495419\n",
      "             precision    recall  f1-score   support\n",
      "\n",
      "        1.0       0.97      0.98      0.97      7877\n",
      "        5.0       0.97      0.97      0.97      6313\n",
      "\n",
      "avg / total       0.97      0.97      0.97     14190\n",
      "\n"
     ]
    }
   ],
   "source": [
    "# PCA feature\n",
    "\n",
    "from sklearn.linear_model import LogisticRegression\n",
    "from sklearn import metrics, cross_validation\n",
    "from sklearn import datasets\n",
    "predicted = cross_validation.cross_val_predict(LogisticRegression(),pca_dat, new_ys, cv=10)\n",
    "print(metrics.accuracy_score(new_ys, predicted))\n",
    "print(metrics.classification_report(new_ys, predicted))\n",
    "\n",
    "clf = svm.SVC(kernel='linear', C=1)\n",
    "predicted = cross_validation.cross_val_predict(clf,pca_dat, new_ys, cv=10)\n",
    "print(\"SVM\",metrics.accuracy_score(new_ys, predicted))\n",
    "print(metrics.classification_report(new_ys, predicted))"
   ]
  },
  {
   "cell_type": "code",
   "execution_count": 18,
   "metadata": {},
   "outputs": [
    {
     "name": "stdout",
     "output_type": "stream",
     "text": [
      "0.968921775899\n",
      "             precision    recall  f1-score   support\n",
      "\n",
      "        1.0       0.97      0.98      0.97      7877\n",
      "        5.0       0.97      0.96      0.96      6313\n",
      "\n",
      "avg / total       0.97      0.97      0.97     14190\n",
      "\n",
      "SVM 0.970119802678\n",
      "             precision    recall  f1-score   support\n",
      "\n",
      "        1.0       0.97      0.98      0.97      7877\n",
      "        5.0       0.97      0.96      0.97      6313\n",
      "\n",
      "avg / total       0.97      0.97      0.97     14190\n",
      "\n"
     ]
    }
   ],
   "source": [
    "# TGA feature\n",
    "\n",
    "from sklearn.linear_model import LogisticRegression\n",
    "from sklearn import metrics, cross_validation, svm\n",
    "from sklearn import datasets\n",
    "predicted = cross_validation.cross_val_predict(LogisticRegression(),tga_dat, new_ys, cv=10)\n",
    "print(metrics.accuracy_score(new_ys, predicted))\n",
    "print(metrics.classification_report(new_ys, predicted))\n",
    "\n",
    "clf = svm.SVC(kernel='linear', C=1)\n",
    "predicted = cross_validation.cross_val_predict(clf,tga_dat, new_ys, cv=10)\n",
    "print(\"SVM\",metrics.accuracy_score(new_ys, predicted))\n",
    "print(metrics.classification_report(new_ys, predicted))"
   ]
  },
  {
   "cell_type": "markdown",
   "metadata": {},
   "source": [
    "# Repeated with {6,9}"
   ]
  },
  {
   "cell_type": "code",
   "execution_count": 37,
   "metadata": {},
   "outputs": [],
   "source": [
    "new_xs,new_ys = filt_num(x_dat,y_dat,[6,9])\n",
    "pca = PCA(n_components=20)\n",
    "pca.fit(new_xs)\n",
    "pca_dat = pca.transform(new_xs)\n",
    "\n",
    "tga = TGA(n_components=20)\n",
    "tga.fit(new_xs)\n",
    "tga_dat = tga.transform(new_xs)\n",
    "\n"
   ]
  },
  {
   "cell_type": "code",
   "execution_count": 20,
   "metadata": {},
   "outputs": [
    {
     "name": "stdout",
     "output_type": "stream",
     "text": [
      "0.998265143848\n",
      "             precision    recall  f1-score   support\n",
      "\n",
      "        6.0       1.00      1.00      1.00      6876\n",
      "        9.0       1.00      1.00      1.00      6958\n",
      "\n",
      "avg / total       1.00      1.00      1.00     13834\n",
      "\n",
      "SVM 0.998337429521\n",
      "             precision    recall  f1-score   support\n",
      "\n",
      "        6.0       1.00      1.00      1.00      6876\n",
      "        9.0       1.00      1.00      1.00      6958\n",
      "\n",
      "avg / total       1.00      1.00      1.00     13834\n",
      "\n"
     ]
    }
   ],
   "source": [
    "# Original feature\n",
    "\n",
    "from sklearn.linear_model import LogisticRegression\n",
    "from sklearn import metrics, cross_validation\n",
    "from sklearn import datasets\n",
    "predicted = cross_validation.cross_val_predict(LogisticRegression(),new_xs, new_ys, cv=10)\n",
    "print(metrics.accuracy_score(new_ys, predicted))\n",
    "print(metrics.classification_report(new_ys, predicted))\n",
    "\n",
    "clf = svm.SVC(kernel='linear', C=1)\n",
    "predicted = cross_validation.cross_val_predict(clf,new_xs, new_ys, cv=10)\n",
    "print(\"SVM\",metrics.accuracy_score(new_ys, predicted))\n",
    "print(metrics.classification_report(new_ys, predicted))"
   ]
  },
  {
   "cell_type": "code",
   "execution_count": 21,
   "metadata": {},
   "outputs": [
    {
     "name": "stdout",
     "output_type": "stream",
     "text": [
      "0.995735145294\n",
      "             precision    recall  f1-score   support\n",
      "\n",
      "        6.0       1.00      1.00      1.00      6876\n",
      "        9.0       1.00      1.00      1.00      6958\n",
      "\n",
      "avg / total       1.00      1.00      1.00     13834\n",
      "\n",
      "SVM 0.996024287986\n",
      "             precision    recall  f1-score   support\n",
      "\n",
      "        6.0       1.00      1.00      1.00      6876\n",
      "        9.0       1.00      1.00      1.00      6958\n",
      "\n",
      "avg / total       1.00      1.00      1.00     13834\n",
      "\n"
     ]
    }
   ],
   "source": [
    "# PCA feature\n",
    "\n",
    "from sklearn.linear_model import LogisticRegression\n",
    "from sklearn import metrics, cross_validation\n",
    "from sklearn import datasets\n",
    "predicted = cross_validation.cross_val_predict(LogisticRegression(),pca_dat, new_ys, cv=10)\n",
    "print(metrics.accuracy_score(new_ys, predicted))\n",
    "print(metrics.classification_report(new_ys, predicted))\n",
    "\n",
    "clf = svm.SVC(kernel='linear', C=1)\n",
    "predicted = cross_validation.cross_val_predict(clf,pca_dat, new_ys, cv=10)\n",
    "print(\"SVM\",metrics.accuracy_score(new_ys, predicted))\n",
    "print(metrics.classification_report(new_ys, predicted))"
   ]
  },
  {
   "cell_type": "code",
   "execution_count": 22,
   "metadata": {},
   "outputs": [
    {
     "name": "stdout",
     "output_type": "stream",
     "text": [
      "0.9946508602\n",
      "             precision    recall  f1-score   support\n",
      "\n",
      "        6.0       1.00      0.99      0.99      6876\n",
      "        9.0       0.99      1.00      0.99      6958\n",
      "\n",
      "avg / total       0.99      0.99      0.99     13834\n",
      "\n",
      "SVM 0.9946508602\n",
      "             precision    recall  f1-score   support\n",
      "\n",
      "        6.0       1.00      0.99      0.99      6876\n",
      "        9.0       0.99      1.00      0.99      6958\n",
      "\n",
      "avg / total       0.99      0.99      0.99     13834\n",
      "\n"
     ]
    }
   ],
   "source": [
    "# TGA feature\n",
    "\n",
    "from sklearn.linear_model import LogisticRegression\n",
    "from sklearn import metrics, cross_validation, svm\n",
    "from sklearn import datasets\n",
    "predicted = cross_validation.cross_val_predict(LogisticRegression(),tga_dat, new_ys, cv=10)\n",
    "print(metrics.accuracy_score(new_ys, predicted))\n",
    "print(metrics.classification_report(new_ys, predicted))\n",
    "\n",
    "clf = svm.SVC(kernel='linear', C=1)\n",
    "predicted = cross_validation.cross_val_predict(clf,tga_dat, new_ys, cv=10)\n",
    "print(\"SVM\",metrics.accuracy_score(new_ys, predicted))\n",
    "print(metrics.classification_report(new_ys, predicted))\n"
   ]
  },
  {
   "cell_type": "code",
   "execution_count": 23,
   "metadata": {},
   "outputs": [
    {
     "name": "stdout",
     "output_type": "stream",
     "text": [
      "0,1,2,3,4,5,6,7,8,9,10,11,12,13,14,15,16,17,18,19,"
     ]
    }
   ],
   "source": [
    "white_xs = add_noise_to_train_set(new_xs)\n",
    "pca = PCA(n_components=20)\n",
    "pca.fit(white_xs)\n",
    "pca_dat = pca.transform(white_xs)\n",
    "\n",
    "tga = TGA(n_components=20)\n",
    "tga.fit(white_xs)\n",
    "tga_dat = tga.transform(white_xs)\n",
    "\n"
   ]
  },
  {
   "cell_type": "code",
   "execution_count": 24,
   "metadata": {},
   "outputs": [
    {
     "name": "stdout",
     "output_type": "stream",
     "text": [
      "0.995446002602\n",
      "             precision    recall  f1-score   support\n",
      "\n",
      "        6.0       1.00      1.00      1.00      6876\n",
      "        9.0       1.00      1.00      1.00      6958\n",
      "\n",
      "avg / total       1.00      1.00      1.00     13834\n",
      "\n",
      "SVM 0.993277432413\n",
      "             precision    recall  f1-score   support\n",
      "\n",
      "        6.0       0.99      0.99      0.99      6876\n",
      "        9.0       0.99      0.99      0.99      6958\n",
      "\n",
      "avg / total       0.99      0.99      0.99     13834\n",
      "\n"
     ]
    }
   ],
   "source": [
    "# Original feature\n",
    "\n",
    "from sklearn.linear_model import LogisticRegression\n",
    "from sklearn import metrics, cross_validation\n",
    "from sklearn import datasets\n",
    "predicted = cross_validation.cross_val_predict(LogisticRegression(),white_xs, new_ys, cv=10)\n",
    "print(metrics.accuracy_score(new_ys, predicted))\n",
    "print(metrics.classification_report(new_ys, predicted))\n",
    "\n",
    "clf = svm.SVC(kernel='linear', C=1)\n",
    "predicted = cross_validation.cross_val_predict(clf,white_xs, new_ys, cv=10)\n",
    "print(\"SVM\",metrics.accuracy_score(new_ys, predicted))\n",
    "print(metrics.classification_report(new_ys, predicted))"
   ]
  },
  {
   "cell_type": "code",
   "execution_count": 25,
   "metadata": {},
   "outputs": [
    {
     "name": "stdout",
     "output_type": "stream",
     "text": [
      "0.994289431835\n",
      "             precision    recall  f1-score   support\n",
      "\n",
      "        6.0       0.99      0.99      0.99      6876\n",
      "        9.0       0.99      0.99      0.99      6958\n",
      "\n",
      "avg / total       0.99      0.99      0.99     13834\n",
      "\n",
      "SVM 0.993711146451\n",
      "             precision    recall  f1-score   support\n",
      "\n",
      "        6.0       0.99      0.99      0.99      6876\n",
      "        9.0       0.99      0.99      0.99      6958\n",
      "\n",
      "avg / total       0.99      0.99      0.99     13834\n",
      "\n"
     ]
    }
   ],
   "source": [
    "# PCA feature\n",
    "\n",
    "from sklearn.linear_model import LogisticRegression\n",
    "from sklearn import metrics, cross_validation\n",
    "from sklearn import datasets\n",
    "predicted = cross_validation.cross_val_predict(LogisticRegression(),pca_dat, new_ys, cv=10)\n",
    "print(metrics.accuracy_score(new_ys, predicted))\n",
    "print(metrics.classification_report(new_ys, predicted))\n",
    "\n",
    "clf = svm.SVC(kernel='linear', C=1)\n",
    "predicted = cross_validation.cross_val_predict(clf,pca_dat, new_ys, cv=10)\n",
    "print(\"SVM\",metrics.accuracy_score(new_ys, predicted))\n",
    "print(metrics.classification_report(new_ys, predicted))"
   ]
  },
  {
   "cell_type": "code",
   "execution_count": 26,
   "metadata": {},
   "outputs": [
    {
     "name": "stdout",
     "output_type": "stream",
     "text": [
      "0.992554575683\n",
      "             precision    recall  f1-score   support\n",
      "\n",
      "        6.0       0.99      0.99      0.99      6876\n",
      "        9.0       0.99      0.99      0.99      6958\n",
      "\n",
      "avg / total       0.99      0.99      0.99     13834\n",
      "\n",
      "SVM 0.992554575683\n",
      "             precision    recall  f1-score   support\n",
      "\n",
      "        6.0       0.99      0.99      0.99      6876\n",
      "        9.0       0.99      0.99      0.99      6958\n",
      "\n",
      "avg / total       0.99      0.99      0.99     13834\n",
      "\n"
     ]
    }
   ],
   "source": [
    "# PCA feature\n",
    "\n",
    "from sklearn.linear_model import LogisticRegression\n",
    "from sklearn import metrics, cross_validation\n",
    "from sklearn import datasets\n",
    "predicted = cross_validation.cross_val_predict(LogisticRegression(),tga_dat, new_ys, cv=10)\n",
    "print(metrics.accuracy_score(new_ys, predicted))\n",
    "print(metrics.classification_report(new_ys, predicted))\n",
    "\n",
    "clf = svm.SVC(kernel='linear', C=1)\n",
    "predicted = cross_validation.cross_val_predict(clf,tga_dat, new_ys, cv=10)\n",
    "print(\"SVM\",metrics.accuracy_score(new_ys, predicted))\n",
    "print(metrics.classification_report(new_ys, predicted))"
   ]
  },
  {
   "cell_type": "code",
   "execution_count": 38,
   "metadata": {},
   "outputs": [
    {
     "name": "stdout",
     "output_type": "stream",
     "text": [
      "0,1,2,3,4,5,6,7,8,9,10,11,12,13,14,15,16,17,18,19,"
     ]
    }
   ],
   "source": [
    "true_noise_xs = add_true_noise_to_train_set(new_xs,0.1)\n",
    "\n",
    "pca = PCA(n_components=20)\n",
    "pca.fit(true_noise_xs)\n",
    "pca_dat = pca.transform(true_noise_xs)\n",
    "\n",
    "tga = TGA(n_components=20)\n",
    "tga.fit(true_noise_xs)\n",
    "tga_dat = tga.transform(true_noise_xs)\n"
   ]
  },
  {
   "cell_type": "code",
   "execution_count": 39,
   "metadata": {},
   "outputs": [
    {
     "name": "stdout",
     "output_type": "stream",
     "text": [
      "0.962556021397\n",
      "             precision    recall  f1-score   support\n",
      "\n",
      "        6.0       0.96      0.96      0.96      6876\n",
      "        9.0       0.96      0.96      0.96      6958\n",
      "\n",
      "avg / total       0.96      0.96      0.96     13834\n",
      "\n",
      "SVM 0.964941448605\n",
      "             precision    recall  f1-score   support\n",
      "\n",
      "        6.0       0.96      0.96      0.96      6876\n",
      "        9.0       0.97      0.97      0.97      6958\n",
      "\n",
      "avg / total       0.96      0.96      0.96     13834\n",
      "\n"
     ]
    }
   ],
   "source": [
    "# Original feature\n",
    "\n",
    "from sklearn.linear_model import LogisticRegression\n",
    "from sklearn import metrics, cross_validation\n",
    "from sklearn import datasets\n",
    "predicted = cross_validation.cross_val_predict(LogisticRegression(),true_noise_xs, new_ys, cv=10)\n",
    "print(metrics.accuracy_score(new_ys, predicted))\n",
    "print(metrics.classification_report(new_ys, predicted))\n",
    "\n",
    "clf = svm.SVC(kernel='linear', C=1)\n",
    "predicted = cross_validation.cross_val_predict(clf,true_noise_xs, new_ys, cv=10)\n",
    "print(\"SVM\",metrics.accuracy_score(new_ys, predicted))\n",
    "print(metrics.classification_report(new_ys, predicted))"
   ]
  },
  {
   "cell_type": "code",
   "execution_count": 40,
   "metadata": {},
   "outputs": [
    {
     "name": "stdout",
     "output_type": "stream",
     "text": [
      "0.9454243169\n",
      "             precision    recall  f1-score   support\n",
      "\n",
      "        6.0       0.95      0.94      0.94      6876\n",
      "        9.0       0.94      0.95      0.95      6958\n",
      "\n",
      "avg / total       0.95      0.95      0.95     13834\n",
      "\n",
      "SVM 0.949255457568\n",
      "             precision    recall  f1-score   support\n",
      "\n",
      "        6.0       0.95      0.95      0.95      6876\n",
      "        9.0       0.95      0.95      0.95      6958\n",
      "\n",
      "avg / total       0.95      0.95      0.95     13834\n",
      "\n"
     ]
    }
   ],
   "source": [
    "# PCA feature\n",
    "\n",
    "from sklearn.linear_model import LogisticRegression\n",
    "from sklearn import metrics, cross_validation\n",
    "from sklearn import datasets\n",
    "predicted = cross_validation.cross_val_predict(LogisticRegression(),pca_dat, new_ys, cv=10)\n",
    "print(metrics.accuracy_score(new_ys, predicted))\n",
    "print(metrics.classification_report(new_ys, predicted))\n",
    "\n",
    "clf = svm.SVC(kernel='linear', C=1)\n",
    "predicted = cross_validation.cross_val_predict(clf,pca_dat, new_ys, cv=10)\n",
    "print(\"SVM\",metrics.accuracy_score(new_ys, predicted))\n",
    "print(metrics.classification_report(new_ys, predicted))"
   ]
  },
  {
   "cell_type": "code",
   "execution_count": 41,
   "metadata": {},
   "outputs": [
    {
     "name": "stdout",
     "output_type": "stream",
     "text": [
      "0.942677461327\n",
      "             precision    recall  f1-score   support\n",
      "\n",
      "        6.0       0.95      0.94      0.94      6876\n",
      "        9.0       0.94      0.95      0.94      6958\n",
      "\n",
      "avg / total       0.94      0.94      0.94     13834\n",
      "\n",
      "SVM 0.947159173052\n",
      "             precision    recall  f1-score   support\n",
      "\n",
      "        6.0       0.95      0.94      0.95      6876\n",
      "        9.0       0.94      0.95      0.95      6958\n",
      "\n",
      "avg / total       0.95      0.95      0.95     13834\n",
      "\n"
     ]
    }
   ],
   "source": [
    "# TGA feature\n",
    "\n",
    "from sklearn.linear_model import LogisticRegression\n",
    "from sklearn import metrics, cross_validation, svm\n",
    "from sklearn import datasets\n",
    "predicted = cross_validation.cross_val_predict(LogisticRegression(),tga_dat, new_ys, cv=10)\n",
    "print(metrics.accuracy_score(new_ys, predicted))\n",
    "print(metrics.classification_report(new_ys, predicted))\n",
    "\n",
    "clf = svm.SVC(kernel='linear', C=1)\n",
    "predicted = cross_validation.cross_val_predict(clf,tga_dat, new_ys, cv=10)\n",
    "print(\"SVM\",metrics.accuracy_score(new_ys, predicted))\n",
    "print(metrics.classification_report(new_ys, predicted))"
   ]
  },
  {
   "cell_type": "markdown",
   "metadata": {},
   "source": [
    "# -----------------------------------------------------------------------------"
   ]
  },
  {
   "cell_type": "code",
   "execution_count": 42,
   "metadata": {},
   "outputs": [
    {
     "name": "stdout",
     "output_type": "stream",
     "text": [
      "0,1,2,3,4,5,6,7,8,9,10,11,12,13,14,15,16,17,18,19,"
     ]
    }
   ],
   "source": [
    "true_noise_xs = add_true_noise_to_train_set(new_xs,0.4)\n",
    "\n",
    "pca = PCA(n_components=20)\n",
    "pca.fit(true_noise_xs)\n",
    "pca_dat = pca.transform(true_noise_xs)\n",
    "\n",
    "tga = TGA(n_components=20)\n",
    "tga.fit(true_noise_xs)\n",
    "tga_dat = tga.transform(true_noise_xs)\n"
   ]
  },
  {
   "cell_type": "code",
   "execution_count": 43,
   "metadata": {},
   "outputs": [
    {
     "name": "stdout",
     "output_type": "stream",
     "text": [
      "0.930027468556\n",
      "             precision    recall  f1-score   support\n",
      "\n",
      "        6.0       0.93      0.93      0.93      6876\n",
      "        9.0       0.93      0.93      0.93      6958\n",
      "\n",
      "avg / total       0.93      0.93      0.93     13834\n",
      "\n",
      "SVM 0.931473182015\n",
      "             precision    recall  f1-score   support\n",
      "\n",
      "        6.0       0.93      0.93      0.93      6876\n",
      "        9.0       0.94      0.93      0.93      6958\n",
      "\n",
      "avg / total       0.93      0.93      0.93     13834\n",
      "\n"
     ]
    }
   ],
   "source": [
    "# Original feature\n",
    "\n",
    "from sklearn.linear_model import LogisticRegression\n",
    "from sklearn import metrics, cross_validation\n",
    "from sklearn import datasets\n",
    "predicted = cross_validation.cross_val_predict(LogisticRegression(),true_noise_xs, new_ys, cv=10)\n",
    "print(metrics.accuracy_score(new_ys, predicted))\n",
    "print(metrics.classification_report(new_ys, predicted))\n",
    "\n",
    "clf = svm.SVC(kernel='linear', C=1)\n",
    "predicted = cross_validation.cross_val_predict(clf,true_noise_xs, new_ys, cv=10)\n",
    "print(\"SVM\",metrics.accuracy_score(new_ys, predicted))\n",
    "print(metrics.classification_report(new_ys, predicted))"
   ]
  },
  {
   "cell_type": "code",
   "execution_count": 44,
   "metadata": {},
   "outputs": [
    {
     "name": "stdout",
     "output_type": "stream",
     "text": [
      "0.872126644499\n",
      "             precision    recall  f1-score   support\n",
      "\n",
      "        6.0       0.88      0.87      0.87      6876\n",
      "        9.0       0.87      0.88      0.87      6958\n",
      "\n",
      "avg / total       0.87      0.87      0.87     13834\n",
      "\n",
      "SVM 0.874150643342\n",
      "             precision    recall  f1-score   support\n",
      "\n",
      "        6.0       0.88      0.86      0.87      6876\n",
      "        9.0       0.87      0.88      0.88      6958\n",
      "\n",
      "avg / total       0.87      0.87      0.87     13834\n",
      "\n"
     ]
    }
   ],
   "source": [
    "# PCA feature\n",
    "\n",
    "from sklearn.linear_model import LogisticRegression\n",
    "from sklearn import metrics, cross_validation\n",
    "from sklearn import datasets\n",
    "predicted = cross_validation.cross_val_predict(LogisticRegression(),pca_dat, new_ys, cv=10)\n",
    "print(metrics.accuracy_score(new_ys, predicted))\n",
    "print(metrics.classification_report(new_ys, predicted))\n",
    "\n",
    "clf = svm.SVC(kernel='linear', C=1)\n",
    "predicted = cross_validation.cross_val_predict(clf,pca_dat, new_ys, cv=10)\n",
    "print(\"SVM\",metrics.accuracy_score(new_ys, predicted))\n",
    "print(metrics.classification_report(new_ys, predicted))"
   ]
  },
  {
   "cell_type": "code",
   "execution_count": 45,
   "metadata": {},
   "outputs": [
    {
     "name": "stdout",
     "output_type": "stream",
     "text": [
      "0.862874078358\n",
      "             precision    recall  f1-score   support\n",
      "\n",
      "        6.0       0.87      0.85      0.86      6876\n",
      "        9.0       0.86      0.87      0.87      6958\n",
      "\n",
      "avg / total       0.86      0.86      0.86     13834\n",
      "\n",
      "SVM 0.864681220182\n",
      "             precision    recall  f1-score   support\n",
      "\n",
      "        6.0       0.87      0.85      0.86      6876\n",
      "        9.0       0.86      0.88      0.87      6958\n",
      "\n",
      "avg / total       0.86      0.86      0.86     13834\n",
      "\n"
     ]
    }
   ],
   "source": [
    "# TGA feature\n",
    "\n",
    "from sklearn.linear_model import LogisticRegression\n",
    "from sklearn import metrics, cross_validation, svm\n",
    "from sklearn import datasets\n",
    "predicted = cross_validation.cross_val_predict(LogisticRegression(),tga_dat, new_ys, cv=10)\n",
    "print(metrics.accuracy_score(new_ys, predicted))\n",
    "print(metrics.classification_report(new_ys, predicted))\n",
    "\n",
    "clf = svm.SVC(kernel='linear', C=1)\n",
    "predicted = cross_validation.cross_val_predict(clf,tga_dat, new_ys, cv=10)\n",
    "print(\"SVM\",metrics.accuracy_score(new_ys, predicted))\n",
    "print(metrics.classification_report(new_ys, predicted))"
   ]
  },
  {
   "cell_type": "code",
   "execution_count": null,
   "metadata": {},
   "outputs": [],
   "source": []
  }
 ],
 "metadata": {
  "kernelspec": {
   "display_name": "Python 3",
   "language": "python",
   "name": "python3"
  },
  "language_info": {
   "codemirror_mode": {
    "name": "ipython",
    "version": 3
   },
   "file_extension": ".py",
   "mimetype": "text/x-python",
   "name": "python",
   "nbconvert_exporter": "python",
   "pygments_lexer": "ipython3",
   "version": "3.6.2"
  }
 },
 "nbformat": 4,
 "nbformat_minor": 2
}
