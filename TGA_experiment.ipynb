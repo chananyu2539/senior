{
 "cells": [
  {
   "cell_type": "code",
   "execution_count": 1,
   "metadata": {},
   "outputs": [],
   "source": [
    "import numpy as np\n",
    "import matplotlib.pyplot as plt\n",
    "from itertools import product\n",
    "from sklearn.decomposition import PCA\n",
    "from sklearn.datasets import fetch_mldata\n",
    "%matplotlib inline\n",
    "from sklearn.utils import shuffle\n",
    "from tga import TGA\n",
    "\n",
    "# #use all digits\n",
    "\n",
    "SPLIT = 16000\n",
    "END = 24000\n",
    "\n",
    "mnist = fetch_mldata(\"MNIST original\")\n",
    "x_dat, y_dat = mnist.data[:] / 255., mnist.target[:]\n",
    "x_dat, y_dat = shuffle(x_dat, y_dat)\n"
   ]
  },
  {
   "cell_type": "code",
   "execution_count": 16,
   "metadata": {},
   "outputs": [],
   "source": [
    "def showDigitImage(array):\n",
    "    t = (array).reshape(28,28)\n",
    "    plt.imshow(t)\n",
    "    plt.show()\n",
    "    \n",
    "def filt_num(xs,ys,ns):\n",
    "    xs = xs.copy()\n",
    "    ys = ys.copy()\n",
    "    all_truth = [False]*len(ys)\n",
    "    for i in ns:\n",
    "        cur_truth = ys==i\n",
    "        all_truth = [a or b for a,b in zip(all_truth,cur_truth)]\n",
    "    return xs[all_truth],ys[all_truth]\n",
    "        \n",
    "def add_noise_to_array(pure):\n",
    "    pure = pure.copy()\n",
    "    noise = np.random.normal(0, 0.3, pure.shape)\n",
    "    signal = pure + noise\n",
    "    return signal\n",
    "\n",
    "def add_noise_to_train_set(x_train):\n",
    "    rs = []\n",
    "    for i in x_train:\n",
    "        rs += [add_noise_to_array(i)]\n",
    "    return rs\n",
    "\n",
    "def rotate180(features):\n",
    "    return features.copy()[::-1]\n",
    "  \n",
    "def vertical_flip(features):\n",
    "    return np.flip(features.copy().reshape(28,28),1).ravel()\n",
    "        \n",
    "def add_true_noise_to_train_set(x_train,p):\n",
    "    rs = []\n",
    "    thresholds = np.random.rand(len(x_train)) < p\n",
    "    for i in range(len(x_train)):\n",
    "        if(thresholds[i]):\n",
    "#             print(i)\n",
    "            if(np.random.rand()<0.5):\n",
    "                \n",
    "                rs += [vertical_flip(x_train[i].copy())]\n",
    "            else:\n",
    "                rs += [rotate180(x_train[i].copy())]\n",
    "        else:\n",
    "            rs += [x_train[i].copy()]\n",
    "    return rs\n",
    "\n",
    "new_xs,new_ys = filt_num(x_dat,y_dat,[1,5])\n"
   ]
  },
  {
   "cell_type": "code",
   "execution_count": 5,
   "metadata": {},
   "outputs": [
    {
     "name": "stdout",
     "output_type": "stream",
     "text": [
      "0,a\n",
      "0.0974030092132\n",
      "0.0212057208929\n",
      "0.00633617798664\n",
      "0.0110274658452\n",
      "0.0114991661628\n",
      "0.00394380238027\n",
      "0.0512755219473\n",
      "0.0506544403746\n",
      "0.00184739907649\n",
      "0.00391780742202\n",
      "0.0727848817367\n",
      "0.0714353928321\n",
      "0.00185261240701\n",
      "0.00391780742202\n",
      "0.0727848817367\n",
      "0.0714353928321\n",
      "0.00185261240701\n",
      "0.00391780742202\n",
      "0.0727848817367\n",
      "0.0714353928321\n",
      "0.00185261240701\n",
      "0.00391780742202\n",
      "0.0727848817367\n",
      "0.0714353928321\n",
      "0.00185261240701\n",
      "0.00391780742202\n",
      "0.0727848817367\n",
      "0.0714353928321\n",
      "0.00185261240701\n",
      "0.00391780742202\n",
      "0.0727848817367\n",
      "0.0714353928321\n",
      "0.00185261240701\n",
      "0.00391780742202\n",
      "0.0727848817367\n",
      "0.0714353928321\n",
      "0.00185261240701\n",
      "0.00391780742202\n",
      "0.0727848817367\n",
      "0.0714353928321\n",
      "0.00185261240701\n",
      "0.00391780742202\n",
      "0.0727848817367\n",
      "0.0714353928321\n",
      "0.00185261240701\n",
      "0.00391780742202\n",
      "0.0727848817367\n",
      "0.0714353928321\n",
      "0.00185261240701\n",
      "0.00391780742202\n",
      "0.0727848817367\n",
      "0.0714353928321\n",
      "0.00185261240701\n",
      "0.00391780742202\n",
      "0.0727848817367\n",
      "0.0714353928321\n",
      "0.00185261240701\n",
      "0.00391780742202\n",
      "0.0727848817367\n",
      "0.0714353928321\n",
      "0.00185261240701\n",
      "0.00391780742202\n",
      "0.0727848817367\n",
      "0.0714353928321\n",
      "0.00185261240701\n",
      "0.00391780742202\n",
      "0.0727848817367\n",
      "0.0714353928321\n",
      "0.00185261240701\n",
      "0.00391780742202\n",
      "0.0727848817367\n",
      "0.0714353928321\n",
      "0.00185261240701\n",
      "0.00391780742202\n",
      "0.0727848817367\n",
      "0.0714353928321\n",
      "0.00185261240701\n",
      "0.00391780742202\n",
      "0.0727848817367\n",
      "0.0714353928321\n",
      "0.00185261240701\n",
      "0.00391780742202\n",
      "0.0727848817367\n"
     ]
    },
    {
     "ename": "KeyboardInterrupt",
     "evalue": "",
     "output_type": "error",
     "traceback": [
      "\u001b[0;31m---------------------------------------------------------------------------\u001b[0m",
      "\u001b[0;31mKeyboardInterrupt\u001b[0m                         Traceback (most recent call last)",
      "\u001b[0;32m<ipython-input-5-ebf217e61f08>\u001b[0m in \u001b[0;36m<module>\u001b[0;34m()\u001b[0m\n\u001b[1;32m      1\u001b[0m \u001b[0mtga\u001b[0m \u001b[0;34m=\u001b[0m \u001b[0mTGA\u001b[0m\u001b[0;34m(\u001b[0m\u001b[0mn_components\u001b[0m\u001b[0;34m=\u001b[0m\u001b[0;36m5\u001b[0m\u001b[0;34m)\u001b[0m\u001b[0;34m\u001b[0m\u001b[0m\n\u001b[0;32m----> 2\u001b[0;31m \u001b[0mtga\u001b[0m\u001b[0;34m.\u001b[0m\u001b[0mfit\u001b[0m\u001b[0;34m(\u001b[0m\u001b[0mnew_xs\u001b[0m\u001b[0;34m)\u001b[0m\u001b[0;34m\u001b[0m\u001b[0m\n\u001b[0m",
      "\u001b[0;32m~/Desktop/seniorproj/mnist/tga.py\u001b[0m in \u001b[0;36mfit\u001b[0;34m(self, X, y)\u001b[0m\n\u001b[1;32m    175\u001b[0m             \u001b[0mReturns\u001b[0m \u001b[0mthe\u001b[0m \u001b[0minstance\u001b[0m \u001b[0mitself\u001b[0m\u001b[0;34m.\u001b[0m\u001b[0;34m\u001b[0m\u001b[0m\n\u001b[1;32m    176\u001b[0m         \"\"\"\n\u001b[0;32m--> 177\u001b[0;31m         \u001b[0mself\u001b[0m\u001b[0;34m.\u001b[0m\u001b[0m_fit\u001b[0m\u001b[0;34m(\u001b[0m\u001b[0mX\u001b[0m\u001b[0;34m)\u001b[0m\u001b[0;34m\u001b[0m\u001b[0m\n\u001b[0m\u001b[1;32m    178\u001b[0m         \u001b[0;32mreturn\u001b[0m \u001b[0mself\u001b[0m\u001b[0;34m\u001b[0m\u001b[0m\n\u001b[1;32m    179\u001b[0m \u001b[0;34m\u001b[0m\u001b[0m\n",
      "\u001b[0;32m~/Desktop/seniorproj/mnist/tga.py\u001b[0m in \u001b[0;36m_fit\u001b[0;34m(self, X)\u001b[0m\n\u001b[1;32m    250\u001b[0m                 \u001b[0mdot_signs\u001b[0m \u001b[0;34m=\u001b[0m \u001b[0mnp\u001b[0m\u001b[0;34m.\u001b[0m\u001b[0msign\u001b[0m\u001b[0;34m(\u001b[0m\u001b[0mdot\u001b[0m\u001b[0;34m(\u001b[0m\u001b[0mX\u001b[0m\u001b[0;34m,\u001b[0m \u001b[0mmu\u001b[0m\u001b[0;34m)\u001b[0m\u001b[0;34m)\u001b[0m\u001b[0;34m\u001b[0m\u001b[0m\n\u001b[1;32m    251\u001b[0m                 mu = _trimmed_mean(X * dot_signs[:, np.newaxis],\n\u001b[0;32m--> 252\u001b[0;31m                                    self.trim_proportion)\n\u001b[0m\u001b[1;32m    253\u001b[0m                 \u001b[0mmu\u001b[0m \u001b[0;34m=\u001b[0m \u001b[0mmu\u001b[0m \u001b[0;34m/\u001b[0m \u001b[0mnorm\u001b[0m\u001b[0;34m(\u001b[0m\u001b[0mmu\u001b[0m\u001b[0;34m)\u001b[0m\u001b[0;34m\u001b[0m\u001b[0m\n\u001b[1;32m    254\u001b[0m                 \u001b[0mprint\u001b[0m\u001b[0;34m(\u001b[0m\u001b[0mnp\u001b[0m\u001b[0;34m.\u001b[0m\u001b[0mmax\u001b[0m\u001b[0;34m(\u001b[0m\u001b[0mnp\u001b[0m\u001b[0;34m.\u001b[0m\u001b[0mabs\u001b[0m\u001b[0;34m(\u001b[0m\u001b[0mmu\u001b[0m \u001b[0;34m-\u001b[0m \u001b[0mprev_mu\u001b[0m\u001b[0;34m)\u001b[0m\u001b[0;34m)\u001b[0m\u001b[0;34m)\u001b[0m\u001b[0;34m\u001b[0m\u001b[0m\n",
      "\u001b[0;32m~/Desktop/seniorproj/mnist/tga.py\u001b[0m in \u001b[0;36m_trimmed_mean\u001b[0;34m(X, trim_proportion)\u001b[0m\n\u001b[1;32m     59\u001b[0m     \u001b[0mn_samples\u001b[0m\u001b[0;34m,\u001b[0m \u001b[0mn_features\u001b[0m \u001b[0;34m=\u001b[0m \u001b[0mX\u001b[0m\u001b[0;34m.\u001b[0m\u001b[0mshape\u001b[0m\u001b[0;34m\u001b[0m\u001b[0m\n\u001b[1;32m     60\u001b[0m     \u001b[0mn_trim\u001b[0m \u001b[0;34m=\u001b[0m \u001b[0mint\u001b[0m\u001b[0;34m(\u001b[0m\u001b[0mn_samples\u001b[0m \u001b[0;34m*\u001b[0m \u001b[0mtrim_proportion\u001b[0m\u001b[0;34m)\u001b[0m\u001b[0;34m\u001b[0m\u001b[0m\n\u001b[0;32m---> 61\u001b[0;31m     \u001b[0;32mreturn\u001b[0m \u001b[0mnp\u001b[0m\u001b[0;34m.\u001b[0m\u001b[0mapply_along_axis\u001b[0m\u001b[0;34m(\u001b[0m\u001b[0m_trimmed_mean_1d\u001b[0m\u001b[0;34m,\u001b[0m \u001b[0;36m0\u001b[0m\u001b[0;34m,\u001b[0m \u001b[0mX\u001b[0m\u001b[0;34m,\u001b[0m \u001b[0mk\u001b[0m\u001b[0;34m=\u001b[0m\u001b[0mn_trim\u001b[0m\u001b[0;34m)\u001b[0m\u001b[0;34m\u001b[0m\u001b[0m\n\u001b[0m\u001b[1;32m     62\u001b[0m \u001b[0;34m\u001b[0m\u001b[0m\n\u001b[1;32m     63\u001b[0m \u001b[0;34m\u001b[0m\u001b[0m\n",
      "\u001b[0;32m/usr/local/lib/python3.6/site-packages/numpy/lib/shape_base.py\u001b[0m in \u001b[0;36mapply_along_axis\u001b[0;34m(func1d, axis, arr, *args, **kwargs)\u001b[0m\n\u001b[1;32m    137\u001b[0m     \u001b[0mbuff\u001b[0m\u001b[0;34m[\u001b[0m\u001b[0mind0\u001b[0m\u001b[0;34m]\u001b[0m \u001b[0;34m=\u001b[0m \u001b[0mres\u001b[0m\u001b[0;34m\u001b[0m\u001b[0m\n\u001b[1;32m    138\u001b[0m     \u001b[0;32mfor\u001b[0m \u001b[0mind\u001b[0m \u001b[0;32min\u001b[0m \u001b[0minds\u001b[0m\u001b[0;34m:\u001b[0m\u001b[0;34m\u001b[0m\u001b[0m\n\u001b[0;32m--> 139\u001b[0;31m         \u001b[0mbuff\u001b[0m\u001b[0;34m[\u001b[0m\u001b[0mind\u001b[0m\u001b[0;34m]\u001b[0m \u001b[0;34m=\u001b[0m \u001b[0masanyarray\u001b[0m\u001b[0;34m(\u001b[0m\u001b[0mfunc1d\u001b[0m\u001b[0;34m(\u001b[0m\u001b[0minarr_view\u001b[0m\u001b[0;34m[\u001b[0m\u001b[0mind\u001b[0m\u001b[0;34m]\u001b[0m\u001b[0;34m,\u001b[0m \u001b[0;34m*\u001b[0m\u001b[0margs\u001b[0m\u001b[0;34m,\u001b[0m \u001b[0;34m**\u001b[0m\u001b[0mkwargs\u001b[0m\u001b[0;34m)\u001b[0m\u001b[0;34m)\u001b[0m\u001b[0;34m\u001b[0m\u001b[0m\n\u001b[0m\u001b[1;32m    140\u001b[0m \u001b[0;34m\u001b[0m\u001b[0m\n\u001b[1;32m    141\u001b[0m     \u001b[0;32mif\u001b[0m \u001b[0;32mnot\u001b[0m \u001b[0misinstance\u001b[0m\u001b[0;34m(\u001b[0m\u001b[0mres\u001b[0m\u001b[0;34m,\u001b[0m \u001b[0mmatrix\u001b[0m\u001b[0;34m)\u001b[0m\u001b[0;34m:\u001b[0m\u001b[0;34m\u001b[0m\u001b[0m\n",
      "\u001b[0;32m~/Desktop/seniorproj/mnist/tga.py\u001b[0m in \u001b[0;36m_trimmed_mean_1d\u001b[0;34m(arr, k)\u001b[0m\n\u001b[1;32m     36\u001b[0m         \u001b[0;32mif\u001b[0m \u001b[0melem\u001b[0m \u001b[0;34m>=\u001b[0m \u001b[0mkth_smallest\u001b[0m \u001b[0;32mand\u001b[0m \u001b[0melem\u001b[0m \u001b[0;34m<=\u001b[0m \u001b[0mkth_largest\u001b[0m\u001b[0;34m:\u001b[0m\u001b[0;34m\u001b[0m\u001b[0m\n\u001b[1;32m     37\u001b[0m             \u001b[0mcnt\u001b[0m \u001b[0;34m+=\u001b[0m \u001b[0;36m1\u001b[0m\u001b[0;34m\u001b[0m\u001b[0m\n\u001b[0;32m---> 38\u001b[0;31m             \u001b[0msummation\u001b[0m \u001b[0;34m+=\u001b[0m \u001b[0melem\u001b[0m\u001b[0;34m\u001b[0m\u001b[0m\n\u001b[0m\u001b[1;32m     39\u001b[0m     \u001b[0;32mreturn\u001b[0m \u001b[0msummation\u001b[0m \u001b[0;34m/\u001b[0m \u001b[0mcnt\u001b[0m\u001b[0;34m\u001b[0m\u001b[0m\n\u001b[1;32m     40\u001b[0m \u001b[0;34m\u001b[0m\u001b[0m\n",
      "\u001b[0;31mKeyboardInterrupt\u001b[0m: "
     ]
    }
   ],
   "source": [
    "tga = TGA(n_components=5)\n",
    "tga.fit(new_xs)\n"
   ]
  },
  {
   "cell_type": "code",
   "execution_count": 10,
   "metadata": {},
   "outputs": [
    {
     "name": "stdout",
     "output_type": "stream",
     "text": [
      "0.0297627101048\n"
     ]
    }
   ],
   "source": [
    "tga_dat = tga.transform(new_xs)\n",
    "\n",
    "x_projected = tga.inverse_transform(tga_dat)\n",
    "\n",
    "loss = ((new_xs - x_projected) ** 2).mean()\n",
    "print(loss)"
   ]
  },
  {
   "cell_type": "markdown",
   "metadata": {},
   "source": [
    "# {4,7} vs {4,7}"
   ]
  },
  {
   "cell_type": "code",
   "execution_count": 11,
   "metadata": {},
   "outputs": [
    {
     "name": "stderr",
     "output_type": "stream",
     "text": [
      "/usr/local/lib/python3.6/site-packages/sklearn/cross_validation.py:41: DeprecationWarning: This module was deprecated in version 0.18 in favor of the model_selection module into which all the refactored classes and functions are moved. Also note that the interface of the new CV iterators are different from that of this module. This module will be removed in 0.20.\n",
      "  \"This module will be removed in 0.20.\", DeprecationWarning)\n"
     ]
    },
    {
     "name": "stdout",
     "output_type": "stream",
     "text": [
      "Logistic Regression 0.996124031008\n",
      "             precision    recall  f1-score   support\n",
      "\n",
      "        1.0       1.00      1.00      1.00      7877\n",
      "        5.0       1.00      1.00      1.00      6313\n",
      "\n",
      "avg / total       1.00      1.00      1.00     14190\n",
      "\n",
      "SVM 0.994996476392\n",
      "             precision    recall  f1-score   support\n",
      "\n",
      "        1.0       1.00      1.00      1.00      7877\n",
      "        5.0       0.99      0.99      0.99      6313\n",
      "\n",
      "avg / total       0.99      0.99      0.99     14190\n",
      "\n"
     ]
    }
   ],
   "source": [
    "# Original feature\n",
    "\n",
    "from sklearn.linear_model import LogisticRegression\n",
    "from sklearn import metrics, cross_validation, svm\n",
    "from sklearn import datasets\n",
    "predicted = cross_validation.cross_val_predict(LogisticRegression(),new_xs, new_ys, cv=10)\n",
    "print(\"Logistic Regression\",metrics.accuracy_score(new_ys, predicted))\n",
    "print(metrics.classification_report(new_ys, predicted))\n",
    "\n",
    "clf = svm.SVC(kernel='linear', C=1)\n",
    "predicted = cross_validation.cross_val_predict(clf,new_xs, new_ys, cv=10)\n",
    "print(\"SVM\",metrics.accuracy_score(new_ys, predicted))\n",
    "print(metrics.classification_report(new_ys, predicted))\n",
    "\n"
   ]
  },
  {
   "cell_type": "code",
   "execution_count": 13,
   "metadata": {},
   "outputs": [
    {
     "name": "stdout",
     "output_type": "stream",
     "text": [
      "0.980056377731\n",
      "             precision    recall  f1-score   support\n",
      "\n",
      "        1.0       0.98      0.98      0.98      7877\n",
      "        5.0       0.98      0.97      0.98      6313\n",
      "\n",
      "avg / total       0.98      0.98      0.98     14190\n",
      "\n",
      "SVM 0.980479210712\n",
      "             precision    recall  f1-score   support\n",
      "\n",
      "        1.0       0.98      0.98      0.98      7877\n",
      "        5.0       0.98      0.98      0.98      6313\n",
      "\n",
      "avg / total       0.98      0.98      0.98     14190\n",
      "\n"
     ]
    }
   ],
   "source": [
    "# PCA feature\n",
    "\n",
    "from sklearn.linear_model import LogisticRegression\n",
    "from sklearn import metrics, cross_validation, svm\n",
    "from sklearn import datasets\n",
    "predicted = cross_validation.cross_val_predict(LogisticRegression(),tga_dat, new_ys, cv=10)\n",
    "print(metrics.accuracy_score(new_ys, predicted))\n",
    "print(metrics.classification_report(new_ys, predicted))\n",
    "\n",
    "clf = svm.SVC(kernel='linear', C=1)\n",
    "predicted = cross_validation.cross_val_predict(clf,tga_dat, new_ys, cv=10)\n",
    "print(\"SVM\",metrics.accuracy_score(new_ys, predicted))\n",
    "print(metrics.classification_report(new_ys, predicted))\n"
   ]
  },
  {
   "cell_type": "code",
   "execution_count": 19,
   "metadata": {},
   "outputs": [
    {
     "name": "stdout",
     "output_type": "stream",
     "text": [
      "0,1,2,3,4,"
     ]
    }
   ],
   "source": [
    "white_xs = add_noise_to_train_set(new_xs)\n",
    "tga = TGA(n_components=5)\n",
    "tga.fit(white_xs)\n",
    "\n",
    "tga_dat = tga.transform(white_xs)\n",
    "\n",
    "x_projected = tga.inverse_transform(tga_dat)\n",
    "\n",
    "# loss = ((new_xs - x_projected) ** 2).mean()\n",
    "# print(loss)\n"
   ]
  },
  {
   "cell_type": "code",
   "execution_count": 20,
   "metadata": {},
   "outputs": [
    {
     "name": "stdout",
     "output_type": "stream",
     "text": [
      "Logistic Regression 0.990133897111\n",
      "             precision    recall  f1-score   support\n",
      "\n",
      "        1.0       0.99      0.99      0.99      7877\n",
      "        5.0       0.99      0.99      0.99      6313\n",
      "\n",
      "avg / total       0.99      0.99      0.99     14190\n",
      "\n",
      "SVM 0.986539816772\n",
      "             precision    recall  f1-score   support\n",
      "\n",
      "        1.0       0.99      0.99      0.99      7877\n",
      "        5.0       0.99      0.98      0.98      6313\n",
      "\n",
      "avg / total       0.99      0.99      0.99     14190\n",
      "\n"
     ]
    }
   ],
   "source": [
    "# Original feature\n",
    "\n",
    "from sklearn.linear_model import LogisticRegression\n",
    "from sklearn import metrics, cross_validation, svm\n",
    "from sklearn import datasets\n",
    "predicted = cross_validation.cross_val_predict(LogisticRegression(),white_xs, new_ys, cv=10)\n",
    "print(\"Logistic Regression\",metrics.accuracy_score(new_ys, predicted))\n",
    "print(metrics.classification_report(new_ys, predicted))\n",
    "\n",
    "clf = svm.SVC(kernel='linear', C=1)\n",
    "predicted = cross_validation.cross_val_predict(clf,white_xs, new_ys, cv=10)\n",
    "print(\"SVM\",metrics.accuracy_score(new_ys, predicted))\n",
    "print(metrics.classification_report(new_ys, predicted))\n",
    "\n"
   ]
  },
  {
   "cell_type": "code",
   "execution_count": 21,
   "metadata": {},
   "outputs": [
    {
     "name": "stdout",
     "output_type": "stream",
     "text": [
      "0.975546159267\n",
      "             precision    recall  f1-score   support\n",
      "\n",
      "        1.0       0.98      0.98      0.98      7877\n",
      "        5.0       0.98      0.97      0.97      6313\n",
      "\n",
      "avg / total       0.98      0.98      0.98     14190\n",
      "\n",
      "SVM 0.976885130374\n",
      "             precision    recall  f1-score   support\n",
      "\n",
      "        1.0       0.98      0.98      0.98      7877\n",
      "        5.0       0.98      0.97      0.97      6313\n",
      "\n",
      "avg / total       0.98      0.98      0.98     14190\n",
      "\n"
     ]
    }
   ],
   "source": [
    "# PCA feature\n",
    "\n",
    "from sklearn.linear_model import LogisticRegression\n",
    "from sklearn import metrics, cross_validation, svm\n",
    "from sklearn import datasets\n",
    "predicted = cross_validation.cross_val_predict(LogisticRegression(),tga_dat, new_ys, cv=10)\n",
    "print(metrics.accuracy_score(new_ys, predicted))\n",
    "print(metrics.classification_report(new_ys, predicted))\n",
    "\n",
    "clf = svm.SVC(kernel='linear', C=1)\n",
    "predicted = cross_validation.cross_val_predict(clf,tga_dat, new_ys, cv=10)\n",
    "print(\"SVM\",metrics.accuracy_score(new_ys, predicted))\n",
    "print(metrics.classification_report(new_ys, predicted))\n"
   ]
  },
  {
   "cell_type": "markdown",
   "metadata": {},
   "source": [
    "# {1,5} vs {1,5}: Flip\n"
   ]
  },
  {
   "cell_type": "code",
   "execution_count": 17,
   "metadata": {},
   "outputs": [
    {
     "name": "stdout",
     "output_type": "stream",
     "text": [
      "0,1,2,3,4,5,6,7,8,9,10,11,12,13,14,15,16,17,18,19,0.0269535433814\n"
     ]
    }
   ],
   "source": [
    "true_noise_xs = add_true_noise_to_train_set(new_xs,0.2)\n",
    "\n",
    "tga = TGA(n_components=20)\n",
    "tga.fit(true_noise_xs)\n",
    "tga_dat = tga.transform(true_noise_xs)\n",
    "\n",
    "x_projected = tga.inverse_transform(tga_dat)\n",
    "\n",
    "loss = ((new_xs - x_projected) ** 2).mean()\n",
    "print(loss)"
   ]
  },
  {
   "cell_type": "code",
   "execution_count": 18,
   "metadata": {},
   "outputs": [
    {
     "name": "stdout",
     "output_type": "stream",
     "text": [
      "0.984989429175\n",
      "             precision    recall  f1-score   support\n",
      "\n",
      "        1.0       0.98      0.99      0.99      7877\n",
      "        5.0       0.99      0.98      0.98      6313\n",
      "\n",
      "avg / total       0.98      0.98      0.98     14190\n",
      "\n",
      "SVM 0.98548273432\n",
      "             precision    recall  f1-score   support\n",
      "\n",
      "        1.0       0.98      0.99      0.99      7877\n",
      "        5.0       0.99      0.98      0.98      6313\n",
      "\n",
      "avg / total       0.99      0.99      0.99     14190\n",
      "\n"
     ]
    }
   ],
   "source": [
    "# Original feature\n",
    "\n",
    "from sklearn.linear_model import LogisticRegression\n",
    "from sklearn import metrics, cross_validation, svm\n",
    "from sklearn import datasets\n",
    "predicted = cross_validation.cross_val_predict(LogisticRegression(),true_noise_xs, new_ys, cv=10)\n",
    "print(metrics.accuracy_score(new_ys, predicted))\n",
    "print(metrics.classification_report(new_ys, predicted))\n",
    "\n",
    "clf = svm.SVC(kernel='linear', C=1)\n",
    "predicted = cross_validation.cross_val_predict(clf,true_noise_xs, new_ys, cv=10)\n",
    "print(\"SVM\",metrics.accuracy_score(new_ys, predicted))\n",
    "print(metrics.classification_report(new_ys, predicted))"
   ]
  },
  {
   "cell_type": "code",
   "execution_count": 19,
   "metadata": {},
   "outputs": [
    {
     "name": "stdout",
     "output_type": "stream",
     "text": [
      "0.968921775899\n",
      "             precision    recall  f1-score   support\n",
      "\n",
      "        1.0       0.97      0.98      0.97      7877\n",
      "        5.0       0.97      0.96      0.96      6313\n",
      "\n",
      "avg / total       0.97      0.97      0.97     14190\n",
      "\n",
      "SVM 0.970401691332\n",
      "             precision    recall  f1-score   support\n",
      "\n",
      "        1.0       0.97      0.98      0.97      7877\n",
      "        5.0       0.97      0.96      0.97      6313\n",
      "\n",
      "avg / total       0.97      0.97      0.97     14190\n",
      "\n"
     ]
    }
   ],
   "source": [
    "# PCA feature\n",
    "\n",
    "from sklearn.linear_model import LogisticRegression\n",
    "from sklearn import metrics, cross_validation, svm\n",
    "from sklearn import datasets\n",
    "predicted = cross_validation.cross_val_predict(LogisticRegression(),tga_dat, new_ys, cv=10)\n",
    "print(metrics.accuracy_score(new_ys, predicted))\n",
    "print(metrics.classification_report(new_ys, predicted))\n",
    "\n",
    "clf = svm.SVC(kernel='linear', C=1)\n",
    "predicted = cross_validation.cross_val_predict(clf,tga_dat, new_ys, cv=10)\n",
    "print(\"SVM\",metrics.accuracy_score(new_ys, predicted))\n",
    "print(metrics.classification_report(new_ys, predicted))"
   ]
  },
  {
   "cell_type": "code",
   "execution_count": null,
   "metadata": {},
   "outputs": [],
   "source": []
  },
  {
   "cell_type": "code",
   "execution_count": 26,
   "metadata": {},
   "outputs": [
    {
     "name": "stdout",
     "output_type": "stream",
     "text": [
      "0,1,2,3,4,5,6,7,8,9,10,11,12,13,14,15,16,17,18,19,"
     ]
    }
   ],
   "source": [
    "new_xs,new_ys = filt_num(x_dat,y_dat,[6,9])\n",
    "\n",
    "tga = TGA(n_components=20)\n",
    "\n",
    "tga.fit(new_xs)\n",
    "tga_dat = tga.transform(new_xs)\n",
    "\n",
    "x_projected = tga.inverse_transform(tga_dat)\n",
    "\n",
    "loss = ((new_xs - x_projected) ** 2).mean()\n"
   ]
  },
  {
   "cell_type": "code",
   "execution_count": 27,
   "metadata": {},
   "outputs": [
    {
     "name": "stdout",
     "output_type": "stream",
     "text": [
      "Logistic Regression 0.998192858176\n",
      "             precision    recall  f1-score   support\n",
      "\n",
      "        6.0       1.00      1.00      1.00      6876\n",
      "        9.0       1.00      1.00      1.00      6958\n",
      "\n",
      "avg / total       1.00      1.00      1.00     13834\n",
      "\n",
      "SVM 0.998265143848\n",
      "             precision    recall  f1-score   support\n",
      "\n",
      "        6.0       1.00      1.00      1.00      6876\n",
      "        9.0       1.00      1.00      1.00      6958\n",
      "\n",
      "avg / total       1.00      1.00      1.00     13834\n",
      "\n"
     ]
    }
   ],
   "source": [
    "# Original feature\n",
    "\n",
    "from sklearn.linear_model import LogisticRegression\n",
    "from sklearn import metrics, cross_validation, svm\n",
    "from sklearn import datasets\n",
    "predicted = cross_validation.cross_val_predict(LogisticRegression(),new_xs, new_ys, cv=10)\n",
    "print(\"Logistic Regression\",metrics.accuracy_score(new_ys, predicted))\n",
    "print(metrics.classification_report(new_ys, predicted))\n",
    "\n",
    "clf = svm.SVC(kernel='linear', C=1)\n",
    "predicted = cross_validation.cross_val_predict(clf,new_xs, new_ys, cv=10)\n",
    "print(\"SVM\",metrics.accuracy_score(new_ys, predicted))\n",
    "print(metrics.classification_report(new_ys, predicted))\n",
    "\n"
   ]
  },
  {
   "cell_type": "code",
   "execution_count": 28,
   "metadata": {},
   "outputs": [
    {
     "name": "stdout",
     "output_type": "stream",
     "text": [
      "0.994434003181\n",
      "             precision    recall  f1-score   support\n",
      "\n",
      "        6.0       0.99      0.99      0.99      6876\n",
      "        9.0       0.99      0.99      0.99      6958\n",
      "\n",
      "avg / total       0.99      0.99      0.99     13834\n",
      "\n",
      "SVM 0.994361717508\n",
      "             precision    recall  f1-score   support\n",
      "\n",
      "        6.0       0.99      0.99      0.99      6876\n",
      "        9.0       0.99      0.99      0.99      6958\n",
      "\n",
      "avg / total       0.99      0.99      0.99     13834\n",
      "\n"
     ]
    }
   ],
   "source": [
    "# PCA feature\n",
    "\n",
    "from sklearn.linear_model import LogisticRegression\n",
    "from sklearn import metrics, cross_validation, svm\n",
    "from sklearn import datasets\n",
    "predicted = cross_validation.cross_val_predict(LogisticRegression(),tga_dat, new_ys, cv=10)\n",
    "print(metrics.accuracy_score(new_ys, predicted))\n",
    "print(metrics.classification_report(new_ys, predicted))\n",
    "\n",
    "clf = svm.SVC(kernel='linear', C=1)\n",
    "predicted = cross_validation.cross_val_predict(clf,tga_dat, new_ys, cv=10)\n",
    "print(\"SVM\",metrics.accuracy_score(new_ys, predicted))\n",
    "print(metrics.classification_report(new_ys, predicted))\n"
   ]
  },
  {
   "cell_type": "code",
   "execution_count": 31,
   "metadata": {},
   "outputs": [
    {
     "name": "stdout",
     "output_type": "stream",
     "text": [
      "0,1,2,3,4,5,6,7,8,9,10,11,12,13,14,15,16,17,18,19,0.0335671362677\n"
     ]
    }
   ],
   "source": [
    "true_noise_xs = add_true_noise_to_train_set(new_xs,0.2)\n",
    "\n",
    "tga = TGA(n_components=20)\n",
    "tga.fit(true_noise_xs)\n",
    "tga_dat = tga.transform(true_noise_xs)\n",
    "\n",
    "x_projected = tga.inverse_transform(tga_dat)\n",
    "\n",
    "loss = ((new_xs - x_projected) ** 2).mean()\n",
    "print(loss)"
   ]
  },
  {
   "cell_type": "code",
   "execution_count": 32,
   "metadata": {},
   "outputs": [
    {
     "name": "stdout",
     "output_type": "stream",
     "text": [
      "0.951640884777\n",
      "             precision    recall  f1-score   support\n",
      "\n",
      "        6.0       0.95      0.95      0.95      6876\n",
      "        9.0       0.95      0.95      0.95      6958\n",
      "\n",
      "avg / total       0.95      0.95      0.95     13834\n",
      "\n",
      "SVM 0.953520312274\n",
      "             precision    recall  f1-score   support\n",
      "\n",
      "        6.0       0.95      0.95      0.95      6876\n",
      "        9.0       0.95      0.95      0.95      6958\n",
      "\n",
      "avg / total       0.95      0.95      0.95     13834\n",
      "\n"
     ]
    }
   ],
   "source": [
    "# Original feature\n",
    "\n",
    "from sklearn.linear_model import LogisticRegression\n",
    "from sklearn import metrics, cross_validation, svm\n",
    "from sklearn import datasets\n",
    "predicted = cross_validation.cross_val_predict(LogisticRegression(),true_noise_xs, new_ys, cv=10)\n",
    "print(metrics.accuracy_score(new_ys, predicted))\n",
    "print(metrics.classification_report(new_ys, predicted))\n",
    "\n",
    "clf = svm.SVC(kernel='linear', C=1)\n",
    "predicted = cross_validation.cross_val_predict(clf,true_noise_xs, new_ys, cv=10)\n",
    "print(\"SVM\",metrics.accuracy_score(new_ys, predicted))\n",
    "print(metrics.classification_report(new_ys, predicted))"
   ]
  },
  {
   "cell_type": "code",
   "execution_count": 33,
   "metadata": {},
   "outputs": [
    {
     "name": "stdout",
     "output_type": "stream",
     "text": [
      "0.903354055226\n",
      "             precision    recall  f1-score   support\n",
      "\n",
      "        6.0       0.91      0.89      0.90      6876\n",
      "        9.0       0.90      0.91      0.90      6958\n",
      "\n",
      "avg / total       0.90      0.90      0.90     13834\n",
      "\n",
      "SVM 0.909064623392\n",
      "             precision    recall  f1-score   support\n",
      "\n",
      "        6.0       0.92      0.89      0.91      6876\n",
      "        9.0       0.90      0.93      0.91      6958\n",
      "\n",
      "avg / total       0.91      0.91      0.91     13834\n",
      "\n"
     ]
    }
   ],
   "source": [
    "# PCA feature\n",
    "\n",
    "from sklearn.linear_model import LogisticRegression\n",
    "from sklearn import metrics, cross_validation, svm\n",
    "from sklearn import datasets\n",
    "predicted = cross_validation.cross_val_predict(LogisticRegression(),tga_dat, new_ys, cv=10)\n",
    "print(metrics.accuracy_score(new_ys, predicted))\n",
    "print(metrics.classification_report(new_ys, predicted))\n",
    "\n",
    "clf = svm.SVC(kernel='linear', C=1)\n",
    "predicted = cross_validation.cross_val_predict(clf,tga_dat, new_ys, cv=10)\n",
    "print(\"SVM\",metrics.accuracy_score(new_ys, predicted))\n",
    "print(metrics.classification_report(new_ys, predicted))"
   ]
  },
  {
   "cell_type": "code",
   "execution_count": null,
   "metadata": {},
   "outputs": [],
   "source": []
  }
 ],
 "metadata": {
  "kernelspec": {
   "display_name": "Python 3",
   "language": "python",
   "name": "python3"
  },
  "language_info": {
   "codemirror_mode": {
    "name": "ipython",
    "version": 3
   },
   "file_extension": ".py",
   "mimetype": "text/x-python",
   "name": "python",
   "nbconvert_exporter": "python",
   "pygments_lexer": "ipython3",
   "version": "3.6.2"
  }
 },
 "nbformat": 4,
 "nbformat_minor": 2
}
